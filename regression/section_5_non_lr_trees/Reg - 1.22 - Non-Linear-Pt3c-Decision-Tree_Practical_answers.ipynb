{
 "cells": [
  {
   "cell_type": "markdown",
   "metadata": {},
   "source": [
    "# Decision Trees for Regression\n",
    "\n",
    "In this Jupyter notebook we're going to use Regression Trees on our boston dataset"
   ]
  },
  {
   "cell_type": "markdown",
   "metadata": {},
   "source": [
    "| Model Name  | MAE  |\n",
    "|---|---|\n",
    "| Linear Regression  | 4517 |\n",
    "| SVR(kernel='linear') | 4247  |\n",
    "| SVR(kernel='rbf') | 3103  |"
   ]
  },
  {
   "cell_type": "code",
   "execution_count": 1,
   "metadata": {
    "scrolled": true
   },
   "outputs": [],
   "source": [
    "import pandas as pd\n",
    "import numpy as np\n",
    "from sklearn.datasets import load_boston\n",
    "boston = load_boston()\n",
    "boston_df = pd.DataFrame(data=boston['data'], columns=boston['feature_names'])\n",
    "X = boston_df[['RM', 'LSTAT', 'NOX']]\n",
    "y = boston['target']"
   ]
  },
  {
   "cell_type": "markdown",
   "metadata": {},
   "source": [
    "## Split test data"
   ]
  },
  {
   "cell_type": "code",
   "execution_count": 2,
   "metadata": {
    "scrolled": true
   },
   "outputs": [],
   "source": [
    "from sklearn.model_selection import train_test_split\n",
    "from sklearn.tree import DecisionTreeRegressor\n",
    "\n",
    "X_train, X_test, y_train, y_test = train_test_split(X, y, test_size=0.20, random_state=42)\n",
    "\n",
    "regressor = DecisionTreeRegressor().fit(X_train, y_train)"
   ]
  },
  {
   "cell_type": "code",
   "execution_count": 3,
   "metadata": {},
   "outputs": [
    {
     "name": "stdout",
     "output_type": "stream",
     "text": [
      "Training set MSE: 0.000\n",
      "Training set MAE: 0.00\n"
     ]
    }
   ],
   "source": [
    "from sklearn.metrics import mean_squared_error, mean_absolute_error\n",
    "\n",
    "training_mse = mean_squared_error(y_train, regressor.predict(X_train))\n",
    "training_mae = mean_absolute_error(y_train, regressor.predict(X_train))\n",
    "print(\"Training set MSE: {:.3f}\".format(training_mse))\n",
    "print(\"Training set MAE: {:.2f}\".format(training_mae*1000))"
   ]
  },
  {
   "cell_type": "code",
   "execution_count": 4,
   "metadata": {},
   "outputs": [
    {
     "name": "stdout",
     "output_type": "stream",
     "text": [
      "Test set MSE: 22.938\n",
      "Test set MAE: 2883.33\n"
     ]
    }
   ],
   "source": [
    "test_mse = mean_squared_error(y_test, regressor.predict(X_test))\n",
    "test_mae = mean_absolute_error(y_test, regressor.predict(X_test))\n",
    "print(\"Test set MSE: {:.3f}\".format(test_mse))\n",
    "print(\"Test set MAE: {:.2f}\".format(test_mae*1000))"
   ]
  },
  {
   "cell_type": "code",
   "execution_count": 5,
   "metadata": {},
   "outputs": [
    {
     "data": {
      "text/plain": [
       "779"
      ]
     },
     "execution_count": 5,
     "metadata": {},
     "output_type": "execute_result"
    }
   ],
   "source": [
    "regressor.tree_.node_count"
   ]
  },
  {
   "cell_type": "code",
   "execution_count": null,
   "metadata": {},
   "outputs": [],
   "source": []
  },
  {
   "cell_type": "code",
   "execution_count": 6,
   "metadata": {},
   "outputs": [
    {
     "data": {
      "text/plain": [
       "array(['RM', 'LSTAT', 'NOX'], dtype=object)"
      ]
     },
     "execution_count": 6,
     "metadata": {},
     "output_type": "execute_result"
    }
   ],
   "source": [
    "X.columns.values"
   ]
  },
  {
   "cell_type": "markdown",
   "metadata": {},
   "source": [
    "### Visualise"
   ]
  },
  {
   "cell_type": "code",
   "execution_count": 7,
   "metadata": {
    "scrolled": false
   },
   "outputs": [
    {
     "data": {
      "text/plain": [
       "'decision-tree.pdf'"
      ]
     },
     "execution_count": 7,
     "metadata": {},
     "output_type": "execute_result"
    }
   ],
   "source": [
    "## you'll have to install this library. Note: graphiz\n",
    "import graphviz \n",
    "from sklearn.tree import export_graphviz\n",
    "\n",
    "dot_data = export_graphviz(regressor, feature_names=X.columns.values, filled=True, \n",
    "                                rounded=True, special_characters=True)  \n",
    "graph = graphviz.Source(dot_data)\n",
    "#graph\n",
    "graph.render(\"decision-tree\")"
   ]
  },
  {
   "cell_type": "markdown",
   "metadata": {},
   "source": [
    "## Some Techniques for Preventing Overfitting\n",
    "\n",
    "* max_depth\n",
    "* min_samples_leaf\n",
    "* min_impurity_decrease\n",
    "* ccp_alpha"
   ]
  },
  {
   "cell_type": "markdown",
   "metadata": {},
   "source": [
    "### max_depth"
   ]
  },
  {
   "cell_type": "code",
   "execution_count": 8,
   "metadata": {},
   "outputs": [],
   "source": [
    "def print_model_scores(regressor, training_data, test_data):\n",
    "    \n",
    "    X_train, y_train = training_data\n",
    "    X_test, y_test = test_data\n",
    "    \n",
    "    training_mse = mean_squared_error(y_train, regressor.predict(X_train))\n",
    "    training_mae = mean_absolute_error(y_train, regressor.predict(X_train))\n",
    "\n",
    "    test_mse = mean_squared_error(y_test, regressor.predict(X_test))\n",
    "    test_mae = mean_absolute_error(y_test, regressor.predict(X_test))\n",
    "\n",
    "    print(\"Training set MSE: {:.3f}\".format(training_mse))\n",
    "    print(\"Training set MAE: {:.2f}\".format(training_mae*1000))\n",
    "    print(\"Test set MSE: {:.3f}\".format(test_mse))\n",
    "    print(\"Test set MAE: {:.2f}\".format(test_mae*1000))\n",
    "    print()\n",
    "    print(\"Number of nodes:\", regressor.tree_.node_count)"
   ]
  },
  {
   "cell_type": "code",
   "execution_count": 9,
   "metadata": {},
   "outputs": [],
   "source": [
    "regressor = DecisionTreeRegressor(max_depth=5).fit(X_train, y_train)"
   ]
  },
  {
   "cell_type": "code",
   "execution_count": 10,
   "metadata": {},
   "outputs": [
    {
     "name": "stdout",
     "output_type": "stream",
     "text": [
      "Training set MSE: 9.090\n",
      "Training set MAE: 2084.32\n",
      "Test set MSE: 18.480\n",
      "Test set MAE: 2677.12\n",
      "\n",
      "Number of nodes: 51\n"
     ]
    }
   ],
   "source": [
    "print_model_scores(regressor, (X_train, y_train), (X_test, y_test))"
   ]
  },
  {
   "cell_type": "markdown",
   "metadata": {},
   "source": [
    "### min_samples_leaf"
   ]
  },
  {
   "cell_type": "code",
   "execution_count": 11,
   "metadata": {},
   "outputs": [
    {
     "name": "stdout",
     "output_type": "stream",
     "text": [
      "Training set MSE: 9.966\n",
      "Training set MAE: 1993.45\n",
      "Test set MSE: 15.096\n",
      "Test set MAE: 2734.49\n",
      "\n",
      "Number of nodes: 127\n"
     ]
    }
   ],
   "source": [
    "regressor = DecisionTreeRegressor(min_samples_leaf=5).fit(X_train, y_train)\n",
    "print_model_scores(regressor, (X_train, y_train), (X_test, y_test))"
   ]
  },
  {
   "cell_type": "markdown",
   "metadata": {},
   "source": [
    "### min_impurity_decrease"
   ]
  },
  {
   "cell_type": "code",
   "execution_count": 12,
   "metadata": {},
   "outputs": [
    {
     "name": "stdout",
     "output_type": "stream",
     "text": [
      "Training set MSE: 6.642\n",
      "Training set MAE: 1986.96\n",
      "Test set MSE: 18.818\n",
      "Test set MAE: 2621.40\n",
      "\n",
      "Number of nodes: 53\n"
     ]
    }
   ],
   "source": [
    "regressor = DecisionTreeRegressor(min_impurity_decrease=0.2).fit(X_train, y_train)\n",
    "print_model_scores(regressor, (X_train, y_train), (X_test, y_test))"
   ]
  },
  {
   "cell_type": "markdown",
   "metadata": {},
   "source": [
    "### Pruning\n",
    "\n",
    "Complexity parameter used for Minimal Cost-Complexity Pruning. The subtree with the largest cost complexity that is smaller than ccp_alpha will be chosen. By default, no pruning is performed."
   ]
  },
  {
   "cell_type": "code",
   "execution_count": 13,
   "metadata": {},
   "outputs": [],
   "source": [
    "regressor = DecisionTreeRegressor(random_state=0)\n",
    "path = regressor.cost_complexity_pruning_path(X, y)\n",
    "\n",
    "ccp_alphas, impurities = path.ccp_alphas, path.impurities"
   ]
  },
  {
   "cell_type": "code",
   "execution_count": 14,
   "metadata": {},
   "outputs": [
    {
     "data": {
      "image/png": "[encoded data removed]",
      "text/plain": [
       "<Figure size 432x288 with 1 Axes>"
      ]
     },
     "metadata": {
      "needs_background": "light"
     },
     "output_type": "display_data"
    }
   ],
   "source": [
    "import matplotlib.pyplot as plt\n",
    "fig, ax = plt.subplots()\n",
    "ax.plot(ccp_alphas[:-1], impurities[:-1], marker='o', drawstyle=\"steps-post\")\n",
    "ax.set_xlabel(\"effective alpha\")\n",
    "ax.set_ylabel(\"total impurity of leaves\")\n",
    "ax.set_title(\"Total Impurity vs alpha for training set\")\n",
    "plt.show()"
   ]
  },
  {
   "cell_type": "code",
   "execution_count": 15,
   "metadata": {},
   "outputs": [],
   "source": [
    "from sklearn.model_selection import GridSearchCV\n",
    "grid = {\n",
    "    'ccp_alpha': ccp_alphas\n",
    "}\n",
    "grid_dt = GridSearchCV(DecisionTreeRegressor(random_state=0), grid, scoring='neg_mean_squared_error', cv=5)"
   ]
  },
  {
   "cell_type": "code",
   "execution_count": 16,
   "metadata": {},
   "outputs": [],
   "source": [
    "_ = grid_dt.fit(X, y)"
   ]
  },
  {
   "cell_type": "code",
   "execution_count": 17,
   "metadata": {},
   "outputs": [
    {
     "data": {
      "text/plain": [
       "{'ccp_alpha': 0.38794654620740254}"
      ]
     },
     "execution_count": 17,
     "metadata": {},
     "output_type": "execute_result"
    }
   ],
   "source": [
    "grid_dt.best_params_"
   ]
  },
  {
   "cell_type": "code",
   "execution_count": 18,
   "metadata": {},
   "outputs": [
    {
     "name": "stdout",
     "output_type": "stream",
     "text": [
      "Training set MSE: 9.217\n",
      "Training set MAE: 2338.28\n",
      "Test set MSE: 23.959\n",
      "Test set MAE: 2864.96\n",
      "\n",
      "Number of nodes: 35\n"
     ]
    }
   ],
   "source": [
    "regressor = DecisionTreeRegressor(ccp_alpha=0.3879465462074229).fit(X_train, y_train)\n",
    "print_model_scores(regressor, (X_train, y_train), (X_test, y_test))"
   ]
  },
  {
   "cell_type": "markdown",
   "metadata": {},
   "source": [
    "### cross_validated score"
   ]
  },
  {
   "cell_type": "code",
   "execution_count": 19,
   "metadata": {},
   "outputs": [
    {
     "name": "stdout",
     "output_type": "stream",
     "text": [
      "MAE : 3482.34\n"
     ]
    }
   ],
   "source": [
    "from sklearn.model_selection import cross_val_score\n",
    "mae_dt = cross_val_score(DecisionTreeRegressor(ccp_alpha=0.3879465462074229), X, y, cv=5, scoring='neg_mean_absolute_error')\n",
    "print(\"MAE : {:.2f}\".format(np.abs(np.mean(mae_dt))*1000))"
   ]
  },
  {
   "cell_type": "code",
   "execution_count": null,
   "metadata": {},
   "outputs": [],
   "source": []
  }
 ],
 "metadata": {
  "kernelspec": {
   "display_name": "Python 3 (ipykernel)",
   "language": "python",
   "name": "python3"
  },
  "language_info": {
   "codemirror_mode": {
    "name": "ipython",
    "version": 3
   },
   "file_extension": ".py",
   "mimetype": "text/x-python",
   "name": "python",
   "nbconvert_exporter": "python",
   "pygments_lexer": "ipython3",
   "version": "3.8.10"
  }
 },
 "nbformat": 4,
 "nbformat_minor": 2
}
