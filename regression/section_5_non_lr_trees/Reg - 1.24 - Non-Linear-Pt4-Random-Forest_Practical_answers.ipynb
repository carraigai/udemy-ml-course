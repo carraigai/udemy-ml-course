{
 "cells": [
  {
   "cell_type": "markdown",
   "metadata": {},
   "source": [
    "# Random Forest for Regression\n",
    "\n",
    "In this Jupyter notebook we're going to use Random Forest on our boston dataset"
   ]
  },
  {
   "cell_type": "markdown",
   "metadata": {},
   "source": [
    "| Model Name  | MAE  |\n",
    "|---|---|\n",
    "| Linear Regression  | 4517 |\n",
    "| SVR(kernel='linear') | 4247  |\n",
    "| SVR(kernel='rbf') | 3103  |\n",
    "| Decision Trees  | 3500  |"
   ]
  },
  {
   "cell_type": "code",
   "execution_count": 1,
   "metadata": {
    "scrolled": true
   },
   "outputs": [],
   "source": [
    "import warnings\n",
    "warnings.filterwarnings('ignore')\n",
    "import pandas as pd\n",
    "import numpy as np\n",
    "from sklearn.datasets import load_boston\n",
    "boston = load_boston()\n",
    "boston_df = pd.DataFrame(data=boston['data'], columns=boston['feature_names'])\n",
    "X = boston_df\n",
    "y = boston['target']"
   ]
  },
  {
   "cell_type": "markdown",
   "metadata": {},
   "source": [
    "## Split test data"
   ]
  },
  {
   "cell_type": "code",
   "execution_count": 2,
   "metadata": {
    "scrolled": true
   },
   "outputs": [],
   "source": [
    "from sklearn.model_selection import train_test_split\n",
    "X_train, X_test, y_train, y_test = train_test_split(X, y, test_size=0.20, random_state=42)"
   ]
  },
  {
   "cell_type": "markdown",
   "metadata": {},
   "source": [
    "### util functions"
   ]
  },
  {
   "cell_type": "code",
   "execution_count": 3,
   "metadata": {},
   "outputs": [],
   "source": [
    "from sklearn.metrics import mean_squared_error, mean_absolute_error, r2_score\n",
    "\n",
    "def get_model_scores(regressor, training_data, test_data):\n",
    "    \n",
    "    X_train, y_train = training_data\n",
    "    X_test, y_test = test_data\n",
    "    \n",
    "    training_mse = mean_squared_error(y_train, regressor.predict(X_train))\n",
    "    training_mae = mean_absolute_error(y_train, regressor.predict(X_train))\n",
    "\n",
    "    test_mse = mean_squared_error(y_test, regressor.predict(X_test))\n",
    "    test_mae = mean_absolute_error(y_test, regressor.predict(X_test))\n",
    "    \n",
    "    training_r2_score = r2_score(y_train, regressor.predict(X_train))\n",
    "    test_r2_score = r2_score(y_test, regressor.predict(X_test))\n",
    "\n",
    "    return  {\n",
    "        \"mse\": [training_mse, test_mse],\n",
    "        \"mae\": [training_mae, test_mae],\n",
    "        \"r2\": [training_r2_score, test_r2_score],\n",
    "        \"oob\": [regressor.oob_score_]\n",
    "    }\n",
    "\n",
    "def print_model_scores(regressor, training_data, test_data):\n",
    "    \n",
    "    X_train, y_train = training_data\n",
    "    X_test, y_test = test_data\n",
    "    \n",
    "    results = get_model_scores(regressor, training_data, test_data)\n",
    "\n",
    "    print(\"Training set MSE: {:.3f}\".format(results[\"mse\"][0]))\n",
    "    print(\"Test set MSE: {:.3f}\".format(results[\"mse\"][1]))\n",
    "    print()\n",
    "    print(\"Training set MAE: {:.2f}\".format(results[\"mae\"][0]*1000))\n",
    "    print(\"Test set MAE: {:.2f}\".format(results[\"mae\"][1]*1000))\n",
    "    print()\n",
    "    print(\"Training set r2: {:.3f}\".format(results[\"r2\"][0]))\n",
    "    print(\"Test set r2: {:.2f}\".format(results[\"r2\"][1]))\n",
    "    print()\n",
    "    print(\"Out-of-Bag r2: {:.2f}\".format(results[\"oob\"][0]))"
   ]
  },
  {
   "cell_type": "markdown",
   "metadata": {},
   "source": [
    "## Default settings for RF Regressor"
   ]
  },
  {
   "cell_type": "markdown",
   "metadata": {},
   "source": [
    "Note: n_estimators == # trees"
   ]
  },
  {
   "cell_type": "code",
   "execution_count": 4,
   "metadata": {},
   "outputs": [
    {
     "name": "stdout",
     "output_type": "stream",
     "text": [
      "Training set MSE: 1.978\n",
      "Test set MSE: 7.902\n",
      "\n",
      "Training set MAE: 903.48\n",
      "Test set MAE: 2039.54\n",
      "\n",
      "Training set r2: 0.977\n",
      "Test set r2: 0.89\n",
      "\n",
      "Out-of-Bag r2: 0.84\n"
     ]
    }
   ],
   "source": [
    "from sklearn.ensemble import RandomForestRegressor\n",
    "regressor = RandomForestRegressor(n_estimators = 100, oob_score=True, random_state = 42)\n",
    "regressor.fit(X_train, y_train)\n",
    "print_model_scores(regressor, (X_train, y_train), (X_test, y_test))"
   ]
  },
  {
   "cell_type": "code",
   "execution_count": null,
   "metadata": {},
   "outputs": [],
   "source": []
  },
  {
   "cell_type": "markdown",
   "metadata": {},
   "source": [
    "## Set the regressor to do bagging"
   ]
  },
  {
   "cell_type": "code",
   "execution_count": 5,
   "metadata": {},
   "outputs": [
    {
     "name": "stdout",
     "output_type": "stream",
     "text": [
      "Training set MSE: 2.746\n",
      "Test set MSE: 7.979\n",
      "\n",
      "Training set MAE: 1067.21\n",
      "Test set MAE: 2043.43\n",
      "\n",
      "Training set r2: 0.968\n",
      "Test set r2: 0.89\n",
      "\n",
      "Out-of-Bag r2: 0.84\n"
     ]
    }
   ],
   "source": [
    "from sklearn.ensemble import RandomForestRegressor\n",
    "regressor = RandomForestRegressor(n_estimators = 100, bootstrap=True, max_samples=0.8, \n",
    "                                  oob_score=True, random_state = 42)\n",
    "regressor.fit(X_train, y_train)\n",
    "print_model_scores(regressor, (X_train, y_train), (X_test, y_test))"
   ]
  },
  {
   "cell_type": "markdown",
   "metadata": {},
   "source": [
    "## .. add in feature bagging 'aka' "
   ]
  },
  {
   "cell_type": "code",
   "execution_count": 6,
   "metadata": {},
   "outputs": [
    {
     "name": "stdout",
     "output_type": "stream",
     "text": [
      "Training set MSE: 2.496\n",
      "Test set MSE: 10.015\n",
      "\n",
      "Training set MAE: 1075.25\n",
      "Test set MAE: 2008.10\n",
      "\n",
      "Training set r2: 0.971\n",
      "Test set r2: 0.86\n",
      "\n",
      "Out-of-Bag r2: 0.85\n"
     ]
    }
   ],
   "source": [
    "from sklearn.ensemble import RandomForestRegressor\n",
    "regressor = RandomForestRegressor(n_estimators = 100, bootstrap=True, \n",
    "                                  max_samples=0.8, \n",
    "                                  max_features=0.3,\n",
    "                                  oob_score=True, random_state = 42)\n",
    "regressor.fit(X_train, y_train)\n",
    "print_model_scores(regressor, (X_train, y_train), (X_test, y_test))"
   ]
  },
  {
   "cell_type": "code",
   "execution_count": null,
   "metadata": {},
   "outputs": [],
   "source": []
  },
  {
   "cell_type": "markdown",
   "metadata": {},
   "source": [
    "### ... configure stopping criteria on the RT"
   ]
  },
  {
   "cell_type": "code",
   "execution_count": 7,
   "metadata": {},
   "outputs": [
    {
     "data": {
      "text/plain": [
       "RandomForestRegressor(max_features=0.3, max_samples=0.8, oob_score=True,\n",
       "                      random_state=42)"
      ]
     },
     "execution_count": 7,
     "metadata": {},
     "output_type": "execute_result"
    }
   ],
   "source": [
    "regressor"
   ]
  },
  {
   "cell_type": "code",
   "execution_count": 8,
   "metadata": {},
   "outputs": [
    {
     "name": "stdout",
     "output_type": "stream",
     "text": [
      "Training set MSE: 5.601\n",
      "Test set MSE: 11.149\n",
      "\n",
      "Training set MAE: 1797.56\n",
      "Test set MAE: 2225.44\n",
      "\n",
      "Training set r2: 0.936\n",
      "Test set r2: 0.85\n",
      "\n",
      "Out-of-Bag r2: 0.83\n"
     ]
    }
   ],
   "source": [
    "from sklearn.ensemble import RandomForestRegressor\n",
    "regressor = RandomForestRegressor(n_estimators = 100, bootstrap=True, \n",
    "                                  max_samples=0.8, \n",
    "                                  max_features=0.3,\n",
    "                                  min_impurity_decrease=0.2, \n",
    "                                  oob_score=True, random_state = 42)\n",
    "regressor.fit(X_train, y_train)\n",
    "print_model_scores(regressor, (X_train, y_train), (X_test, y_test))"
   ]
  },
  {
   "cell_type": "markdown",
   "metadata": {},
   "source": [
    "## Plot MAE against tree"
   ]
  },
  {
   "cell_type": "code",
   "execution_count": 9,
   "metadata": {},
   "outputs": [
    {
     "data": {
      "text/plain": [
       "Text(0, 0.5, 'Error')"
      ]
     },
     "execution_count": 9,
     "metadata": {},
     "output_type": "execute_result"
    },
    {
     "data": {
      "image/png": "[encoded data removed]",
      "text/plain": [
       "<Figure size 432x288 with 1 Axes>"
      ]
     },
     "metadata": {
      "needs_background": "light"
     },
     "output_type": "display_data"
    }
   ],
   "source": [
    "import matplotlib.pyplot as plt\n",
    "min_trees = 1\n",
    "max_trees = 100\n",
    "trees_mse_scores = np.zeros((max_trees-min_trees, 3))\n",
    "for n_trees in range(min_trees, max_trees):\n",
    "    regressor = RandomForestRegressor(n_estimators = n_trees+1, bootstrap=True, max_samples=0.8, \n",
    "                                      oob_score=True, random_state = 42).fit(X_train, y_train)\n",
    "    model_scores = get_model_scores(regressor, (X_train, y_train), (X_test, y_test))\n",
    "    trees_mse_scores[n_trees-min_trees][0] = n_trees +1\n",
    "    trees_mse_scores[n_trees-min_trees][1] = model_scores[\"mse\"][1]\n",
    "    trees_mse_scores[n_trees-min_trees][2] = model_scores[\"mae\"][1]    \n",
    "    \n",
    "x = trees_mse_scores[:,0]\n",
    "y1 = trees_mse_scores[:,1]\n",
    "y2 = trees_mse_scores[:,2]    \n",
    "\n",
    "plt.scatter(x, y1)\n",
    "#plt.scatter(x, y2)\n",
    "plt.title(\"Plot Error against # of trees\")\n",
    "plt.xlabel(\"# of Trees\")\n",
    "plt.ylabel(\"Error\")"
   ]
  },
  {
   "cell_type": "markdown",
   "metadata": {},
   "source": [
    "### K-fold CV Score"
   ]
  },
  {
   "cell_type": "code",
   "execution_count": 10,
   "metadata": {},
   "outputs": [
    {
     "name": "stdout",
     "output_type": "stream",
     "text": [
      "MAE : 2923.15\n"
     ]
    }
   ],
   "source": [
    "from sklearn.model_selection import cross_val_score\n",
    "regressor = RandomForestRegressor(n_estimators = 100, bootstrap=True, \n",
    "                                  max_features=0.6,\n",
    "                                  max_samples=0.8, oob_score=True, random_state = 42)\n",
    "\n",
    "mae_dt = cross_val_score(regressor, X, y, cv=5, scoring='neg_mean_absolute_error')\n",
    "print(\"MAE : {:.2f}\".format(np.abs(np.mean(mae_dt))*1000))"
   ]
  },
  {
   "cell_type": "markdown",
   "metadata": {},
   "source": [
    "### Plot Predicted against Actuals"
   ]
  },
  {
   "cell_type": "code",
   "execution_count": 11,
   "metadata": {},
   "outputs": [],
   "source": [
    "regressor.fit(X_train, y_train)\n",
    "predicted = regressor.predict(X_test)"
   ]
  },
  {
   "cell_type": "code",
   "execution_count": 12,
   "metadata": {},
   "outputs": [
    {
     "data": {
      "image/png": "[encoded data removed]",
      "text/plain": [
       "<Figure size 432x288 with 1 Axes>"
      ]
     },
     "metadata": {
      "needs_background": "light"
     },
     "output_type": "display_data"
    }
   ],
   "source": [
    "import seaborn as sns\n",
    "sns.scatterplot(y_test, predicted)\n",
    "plt.plot([y_test.min(), y_test.max()], [y_test.min(), y_test.max()], color='r')\n",
    "plt.title(\"Plot Predicted against Actual\")\n",
    "plt.xlabel(\"Actual\")\n",
    "plt.ylabel(\"Predicted\")\n",
    "plt.show()"
   ]
  },
  {
   "cell_type": "code",
   "execution_count": null,
   "metadata": {},
   "outputs": [],
   "source": []
  },
  {
   "cell_type": "code",
   "execution_count": null,
   "metadata": {},
   "outputs": [],
   "source": []
  },
  {
   "cell_type": "markdown",
   "metadata": {},
   "source": [
    "## Plot residuals"
   ]
  },
  {
   "cell_type": "code",
   "execution_count": 13,
   "metadata": {},
   "outputs": [
    {
     "data": {
      "image/png": "[encoded data removed]",
      "text/plain": [
       "<Figure size 432x288 with 1 Axes>"
      ]
     },
     "metadata": {
      "needs_background": "light"
     },
     "output_type": "display_data"
    }
   ],
   "source": [
    "sns.distplot(y_test - predicted)\n",
    "plt.show()"
   ]
  },
  {
   "cell_type": "code",
   "execution_count": null,
   "metadata": {},
   "outputs": [],
   "source": []
  }
 ],
 "metadata": {
  "kernelspec": {
   "display_name": "Python 3 (ipykernel)",
   "language": "python",
   "name": "python3"
  },
  "language_info": {
   "codemirror_mode": {
    "name": "ipython",
    "version": 3
   },
   "file_extension": ".py",
   "mimetype": "text/x-python",
   "name": "python",
   "nbconvert_exporter": "python",
   "pygments_lexer": "ipython3",
   "version": "3.8.10"
  }
 },
 "nbformat": 4,
 "nbformat_minor": 2
}
