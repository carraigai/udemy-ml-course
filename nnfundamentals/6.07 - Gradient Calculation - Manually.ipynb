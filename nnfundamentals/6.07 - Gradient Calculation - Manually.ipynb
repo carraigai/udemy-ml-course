{
 "cells": [
  {
   "cell_type": "markdown",
   "metadata": {},
   "source": [
    "# Calculating Gradient\n",
    "\n",
    "1. numerically\n",
    "2. analytically\n",
    "3. gradient checking"
   ]
  },
  {
   "cell_type": "code",
   "execution_count": 2,
   "metadata": {},
   "outputs": [],
   "source": [
    "import numpy as np\n",
    "import matplotlib.pyplot as plt"
   ]
  },
  {
   "cell_type": "markdown",
   "metadata": {},
   "source": [
    "## plot function"
   ]
  },
  {
   "cell_type": "code",
   "execution_count": 3,
   "metadata": {},
   "outputs": [],
   "source": [
    "x = np.linspace(0.2, 4)\n",
    "\n",
    "def f_x(x):\n",
    "    return 2*x + x**3\n",
    "\n",
    "y = f_x(x)"
   ]
  },
  {
   "cell_type": "code",
   "execution_count": 4,
   "metadata": {},
   "outputs": [
    {
     "data": {
      "image/png": "[encoded data removed]",
      "text/plain": [
       "<Figure size 432x288 with 1 Axes>"
      ]
     },
     "metadata": {
      "needs_background": "light"
     },
     "output_type": "display_data"
    }
   ],
   "source": [
    "plt.plot(x, y)\n",
    "plt.title(\"y = 2x + x^3\")\n",
    "plt.show()"
   ]
  },
  {
   "cell_type": "code",
   "execution_count": 5,
   "metadata": {},
   "outputs": [
    {
     "data": {
      "image/png": "[encoded data removed]",
      "text/plain": [
       "<Figure size 432x288 with 1 Axes>"
      ]
     },
     "metadata": {
      "needs_background": "light"
     },
     "output_type": "display_data"
    }
   ],
   "source": [
    "h = 0.25\n",
    "x_0 = 3\n",
    "y_0 = f_x(x_0)\n",
    "\n",
    "x_minus = x_0 - h\n",
    "x_plus = x_0+ h\n",
    "\n",
    "plt.plot(x, y)\n",
    "plt.scatter(x_0, y_0, color='r')\n",
    "plt.scatter(x_minus, f_x(x_minus), color='b')\n",
    "plt.scatter(x_plus, f_x(x_plus), color='b')\n",
    "plt.show()"
   ]
  },
  {
   "cell_type": "markdown",
   "metadata": {},
   "source": [
    "## 1. Calculate numerical Gradient\n"
   ]
  },
  {
   "cell_type": "code",
   "execution_count": 6,
   "metadata": {},
   "outputs": [
    {
     "data": {
      "text/plain": [
       "29.0625"
      ]
     },
     "execution_count": 6,
     "metadata": {},
     "output_type": "execute_result"
    }
   ],
   "source": [
    "def calculate_numerical_gradient(x_0, h):\n",
    "    x_minus = x_0 - h\n",
    "    y_minus = f_x(x_minus)\n",
    "    x_plus = x_0+ h\n",
    "    y_plus = f_x(x_plus)\n",
    "\n",
    "    return (y_plus - y_minus) / (2*h)\n",
    "\n",
    "approx_gradient = calculate_numerical_gradient(x_0, h)\n",
    "approx_gradient"
   ]
  },
  {
   "cell_type": "markdown",
   "metadata": {},
   "source": [
    "## 2. Calculate analytical gradient"
   ]
  },
  {
   "cell_type": "code",
   "execution_count": 7,
   "metadata": {},
   "outputs": [
    {
     "data": {
      "text/plain": [
       "29"
      ]
     },
     "execution_count": 7,
     "metadata": {},
     "output_type": "execute_result"
    }
   ],
   "source": [
    "def calculate_analytical_gradient(x):\n",
    "    return 2 + 3*x**2\n",
    "\n",
    "true_gradient = calculate_analytical_gradient(x_0)\n",
    "true_gradient"
   ]
  },
  {
   "cell_type": "markdown",
   "metadata": {},
   "source": [
    "## 3. Do Gradient Check"
   ]
  },
  {
   "cell_type": "code",
   "execution_count": 10,
   "metadata": {},
   "outputs": [
    {
     "name": "stdout",
     "output_type": "stream",
     "text": [
      "gradient difference: -0.001076426264800861\n",
      "WARNING: Difference in gradient is greater than 1e-7\n"
     ]
    },
    {
     "data": {
      "text/plain": [
       "-0.001076426264800861"
      ]
     },
     "execution_count": 10,
     "metadata": {},
     "output_type": "execute_result"
    }
   ],
   "source": [
    "def do_gradient_check(approx_gradient, true_gradient):\n",
    "\n",
    "    ## Note, this is a relative distance between calculations, rather than an absolute distance. \n",
    "    # This is important so that the difference is invariant to scale. \n",
    "    # Not zero safe.\n",
    "    diff = (true_gradient - approx_gradient)/ (true_gradient + approx_gradient) \n",
    "    print(f\"gradient difference: {diff}\")\n",
    "    \n",
    "    if abs(diff) > 1e-7:\n",
    "        print(\"WARNING: Difference in gradient is greater than 1e-7\")\n",
    "    return diff\n",
    "\n",
    "do_gradient_check(approx_gradient, true_gradient)"
   ]
  },
  {
   "cell_type": "code",
   "execution_count": null,
   "metadata": {},
   "outputs": [],
   "source": []
  }
 ],
 "metadata": {
  "kernelspec": {
   "display_name": "Python 3",
   "language": "python",
   "name": "python3"
  },
  "language_info": {
   "codemirror_mode": {
    "name": "ipython",
    "version": 3
   },
   "file_extension": ".py",
   "mimetype": "text/x-python",
   "name": "python",
   "nbconvert_exporter": "python",
   "pygments_lexer": "ipython3",
   "version": "3.7.4"
  }
 },
 "nbformat": 4,
 "nbformat_minor": 2
}
