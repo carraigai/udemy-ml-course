{
 "cells": [
  {
   "cell_type": "markdown",
   "metadata": {},
   "source": [
    "# 6.27 - Regularization Frob norm\n",
    "\n",
    "\n",
    "TODO.."
   ]
  },
  {
   "cell_type": "markdown",
   "metadata": {},
   "source": [
    "## 1. Setup Data"
   ]
  },
  {
   "cell_type": "code",
   "execution_count": 24,
   "metadata": {},
   "outputs": [
    {
     "name": "stdout",
     "output_type": "stream",
     "text": [
      "X_train: (75, 2)\n",
      "y_train shape: (75, 2)\n",
      "X_test: (25, 2)\n",
      "y_test shape: (25, 2)\n"
     ]
    }
   ],
   "source": [
    "import numpy as np\n",
    "import matplotlib.pyplot as plt\n",
    "from sklearn.datasets import make_classification, make_circles\n",
    "\n",
    "\n",
    "from sklearn.model_selection import train_test_split\n",
    "\n",
    "np.random.seed(seed=1)\n",
    "\n",
    "X, y = make_classification(n_samples=100, n_features=2, n_informative=2, n_redundant=0, \n",
    "                           random_state=1, n_clusters_per_class=1)\n",
    "rng = np.random.RandomState(2)\n",
    "X += 2 * rng.uniform(size=X.shape)\n",
    "\n",
    "\n",
    "X_train, X_test, y_train, y_test = train_test_split(X, y, stratify=y)\n",
    "\n",
    "idx_class_0 = y == 0 \n",
    "idx_class_1 = y == 1 \n",
    "\n",
    "y_train_labels = np.zeros((y_train.size, 2)) \n",
    "y_train_labels[y_train == 1, 1] = 1\n",
    "y_train_labels[y_train == 0, 0] = 1\n",
    "\n",
    "\n",
    "y_test_labels = np.zeros((y_test.size, 2)) \n",
    "y_test_labels[y_test == 1, 1] = 1\n",
    "y_test_labels[y_test == 0, 0] = 1\n",
    "\n",
    "print(\"X_train:\", X_train.shape)\n",
    "print(\"y_train shape:\", y_train_labels.shape)\n",
    "print(\"X_test:\", X_test.shape)\n",
    "print(\"y_test shape:\", y_test_labels.shape)"
   ]
  },
  {
   "cell_type": "markdown",
   "metadata": {},
   "source": [
    "### 1.1 Plot the data"
   ]
  },
  {
   "cell_type": "code",
   "execution_count": 25,
   "metadata": {},
   "outputs": [
    {
     "data": {
      "image/png": "[encoded data removed]",
      "text/plain": [
       "<Figure size 432x288 with 1 Axes>"
      ]
     },
     "metadata": {},
     "output_type": "display_data"
    }
   ],
   "source": [
    "plt.plot(X[idx_class_0, 0], X[idx_class_0, 1], 'b.', label=\"circle\")\n",
    "plt.plot(X[idx_class_1, 0], X[idx_class_1, 1], 'gs', label=\"square\")\n",
    "plt.gca().axes.get_yaxis().set_visible(False)\n",
    "\n",
    "plt.title(\"Circles vs Squares\")\n",
    "plt.xlabel(\"x1\")\n",
    "plt.ylabel(\"x2\")\n",
    "plt.xticks([])\n",
    "plt.yticks([])\n",
    "plt.legend()\n",
    "plt.show()"
   ]
  },
  {
   "cell_type": "markdown",
   "metadata": {},
   "source": [
    "## 2. Fit a Model"
   ]
  },
  {
   "cell_type": "code",
   "execution_count": 26,
   "metadata": {},
   "outputs": [],
   "source": [
    "def plot_loss(training_loss, validation_loss, sub_title):\n",
    "    plt.plot(training_loss, label='training')\n",
    "    plt.plot(validation_loss, label='test')\n",
    "    plt.title(f\"Error ({sub_title}) - last val loss: {validation_loss[-1]:.3f}\")\n",
    "    plt.xlabel(\"Epoch\")\n",
    "    plt.ylabel(\"Loss\")\n",
    "    plt.legend()\n",
    "    plt.xlim(0, len(training_loss))\n",
    "    plt.show()"
   ]
  },
  {
   "cell_type": "code",
   "execution_count": 27,
   "metadata": {},
   "outputs": [],
   "source": [
    "def softmax(z):\n",
    "    return np.exp(z) / np.sum(np.exp(z), axis=1, keepdims=True)\n",
    "\n",
    "def sigmoid(z):\n",
    "    return 1. / (1. + np.exp(-z))\n",
    "\n",
    "def output_layer_activation(A1, Theta_2, b2):\n",
    "    return softmax((A1 @ Theta_2) + b2)\n",
    "\n",
    "def hidden_layer_activation(X, Theta_1, b1):\n",
    "    return sigmoid((X @ Theta_1) + b1)\n",
    "\n",
    "def forward_pass(X, Theta_1, b1, Theta_2, b2):\n",
    "    A1 = hidden_layer_activation(X, Theta_1, b1)\n",
    "    A2 = output_layer_activation(A1, Theta_2, b2)\n",
    "    return (A1, A2)\n",
    "\n",
    "def cross_entropy_loss(Y_hat, Y):\n",
    "    loss = - (Y * np.log(Y_hat)).sum() / Y.shape[0] \n",
    "    return loss\n",
    "\n",
    "def get_output_error(Y_hat, Y):\n",
    "    return Y_hat - Y\n",
    "\n",
    "def get_hidden_layer_error(A1, Theta_2, Delta_3):\n",
    "    return np.multiply(np.multiply(A1,(1 - A1)), (Delta_3 @ Theta_2.T))\n",
    "\n",
    "def get_output_gradient(A1, Delta_3):\n",
    "    return  A1.T @ Delta_3\n",
    "\n",
    "def get_output_bias_gradient(Delta_3):\n",
    "    return np.sum(Delta_3, axis=0, keepdims=True)\n",
    "\n",
    "def get_hidden_gradient(X, Delta_2):\n",
    "    return X.T @ Delta_2\n",
    "\n",
    "def get_hidden_bias_gradient(Delta_2):\n",
    "    return np.sum(Delta_2, axis=0, keepdims=True)\n",
    "\n",
    "def calculate_gradients(X, Y, A1, A2, params):\n",
    "\n",
    "    Theta_1, b1, Theta_2, b2 = params\n",
    "\n",
    "    # Calculate Error \n",
    "    Delta_3 = get_output_error(A2, Y)\n",
    "    Delta_2 = get_hidden_layer_error(A1, Theta_2, Delta_3)\n",
    "    \n",
    "    # Calculate Output Gradients\n",
    "    JTheta_2 = get_output_gradient(A1, Delta_3)\n",
    "    Jb2 = get_output_bias_gradient(Delta_3)\n",
    "    \n",
    "    # Calculate Hidden Layer Gradients\n",
    "    JTheta_1 = get_hidden_gradient(X, Delta_2)\n",
    "    \n",
    "    Jb1 = get_hidden_bias_gradient(Delta_2)\n",
    "\n",
    "    return [JTheta_1, Jb1, JTheta_2, Jb2]\n",
    "\n",
    "def evaluate_validation_loss(X, y, params):\n",
    "    Theta_1, b1, Theta_2, b2 = params\n",
    "    _, yhat = forward_pass(X, Theta_1, b1, Theta_2, b2)\n",
    "    return cross_entropy_loss(yhat, y)\n",
    "\n",
    "def get_new_parameters(Js, params, learning_rate):    \n",
    "    \n",
    "    return [\n",
    "    params[0] - (learning_rate * Js[0]),\n",
    "    params[1] - (learning_rate * Js[1]),\n",
    "    params[2] - (learning_rate * Js[2]),\n",
    "    params[3] - (learning_rate * Js[3]) ]\n"
   ]
  },
  {
   "cell_type": "markdown",
   "metadata": {},
   "source": [
    "### 2.1  Initialize parameters"
   ]
  },
  {
   "cell_type": "code",
   "execution_count": 28,
   "metadata": {},
   "outputs": [],
   "source": [
    "learning_rate = 0.01\n",
    "MAX_EPOCHS = 1200\n",
    "\n",
    "o_b1 = np.random.randn(1, 5) \n",
    "o_Theta_1 = np.random.randn(2, 5)\n",
    "o_b2 = np.random.randn(1, 2)\n",
    "o_Theta_2 = np.random.randn(5, 2)\n"
   ]
  },
  {
   "cell_type": "markdown",
   "metadata": {},
   "source": [
    "### 2.2 Batch GD - no regularization"
   ]
  },
  {
   "cell_type": "code",
   "execution_count": 29,
   "metadata": {},
   "outputs": [],
   "source": [
    "b_b1 = np.copy(o_b1)\n",
    "b_b2 = np.copy(o_b2)\n",
    "b_Theta_1 = np.copy(o_Theta_1)\n",
    "b_Theta_2 = np.copy(o_Theta_2)    \n",
    "\n",
    "training_loss = []\n",
    "validation_loss = []\n",
    "    \n",
    "for i in range(0, MAX_EPOCHS):\n",
    "    \n",
    "    ## 1. Forward Pass\n",
    "    A1, A2 = forward_pass(X_train, b_Theta_1, b_b1, b_Theta_2, b_b2)\n",
    "    \n",
    "    ## 2. Training Loss\n",
    "    t_loss = cross_entropy_loss(A2, y_train_labels)\n",
    "    training_loss.append(t_loss)\n",
    "    \n",
    "    # 3. Calculate Gradient\n",
    "    params = (b_Theta_1, b_b1, b_Theta_2, b_b2)\n",
    "    Js = calculate_gradients(X_train, y_train_labels, A1, A2, params)\n",
    "\n",
    "    ## 4. Evaluate on validation set    \n",
    "    v_loss = evaluate_validation_loss(X_test, y_test_labels, params)\n",
    "    validation_loss.append(v_loss)\n",
    "\n",
    "    ## 5. Update Weights\n",
    "    b_Theta_1, b_b1, b_Theta_2, b_b2 = get_new_parameters(Js, params, learning_rate)\n",
    "    "
   ]
  },
  {
   "cell_type": "code",
   "execution_count": 30,
   "metadata": {},
   "outputs": [],
   "source": [
    "def accuracy(y, yhat):\n",
    "    return np.mean((yhat == y))\n",
    "\n",
    "def predict_labels(X, params):\n",
    "    \n",
    "    Theta_1, b1, Theta_2, b2 = params\n",
    "    _, yhat = forward_pass(X, Theta_1, b1, Theta_2, b2)\n",
    "\n",
    "    tmp = yhat >= 0.5\n",
    "    predicted_labels = np.copy(yhat)\n",
    "    predicted_labels[tmp] = 1\n",
    "    predicted_labels[~tmp] = 0\n",
    "\n",
    "    return predicted_labels\n"
   ]
  },
  {
   "cell_type": "markdown",
   "metadata": {},
   "source": [
    "### 2.3 Print model loss"
   ]
  },
  {
   "cell_type": "code",
   "execution_count": 31,
   "metadata": {},
   "outputs": [
    {
     "name": "stdout",
     "output_type": "stream",
     "text": [
      "Accuracy (train) 0.960\n",
      "Accuracy (test) 0.960\n"
     ]
    }
   ],
   "source": [
    "predicted_labels = predict_labels(X_train, params)\n",
    "print(f\"Accuracy (train) {accuracy(y_train_labels, predicted_labels):.3f}\")\n",
    "\n",
    "predicted_labels_t = predict_labels(X_test, params)\n",
    "print(f\"Accuracy (test) {accuracy(y_test_labels, predicted_labels_t):.3f}\")"
   ]
  },
  {
   "cell_type": "markdown",
   "metadata": {},
   "source": [
    "### 2.4 Plot loss"
   ]
  },
  {
   "cell_type": "code",
   "execution_count": 32,
   "metadata": {},
   "outputs": [
    {
     "data": {
      "image/png": "[encoded data removed]",
      "text/plain": [
       "<Figure size 432x288 with 1 Axes>"
      ]
     },
     "metadata": {
      "needs_background": "light"
     },
     "output_type": "display_data"
    }
   ],
   "source": [
    "plot_loss(training_loss, validation_loss, \"vanilla GD\")"
   ]
  },
  {
   "cell_type": "markdown",
   "metadata": {},
   "source": [
    "## 3. Try Regularisation (Frobenius Norm of weights)"
   ]
  },
  {
   "cell_type": "markdown",
   "metadata": {},
   "source": [
    "### 3.1 Train with Regularisation"
   ]
  },
  {
   "cell_type": "code",
   "execution_count": 33,
   "metadata": {},
   "outputs": [],
   "source": [
    "\n",
    "def cross_entropy_loss_with_regularization(lmbda, weights, Y_hat, Y):\n",
    "    \n",
    "    Theta_1, Theta_2 = weights\n",
    "    \n",
    "    m = Y_hat.shape[0]\n",
    "    cross_entropy_loss = - (Y * np.log(Y_hat)).sum() / m\n",
    "    penalty_term = (lmbda/m) * (np.sum(np.square(Theta_1)) + \n",
    "                                   np.sum(np.square(Theta_2)))\n",
    "    \n",
    "    #print(f\"loss: {cross_entropy_loss + penalty_term}\")\n",
    "    return cross_entropy_loss + penalty_term\n",
    "\n",
    "def calculate_gradients_with_regularization(lmbda, X, Y, A1, A2, params):\n",
    "\n",
    "    Theta_1, b1, Theta_2, b2 = params\n",
    "\n",
    "    m = Y.shape[0]\n",
    "    \n",
    "    # Calculate Error \n",
    "    Delta_3 = get_output_error(A2, Y)\n",
    "    Delta_2 = get_hidden_layer_error(A1, Theta_2, Delta_3)\n",
    "    \n",
    "    # Calculate Output Gradients\n",
    "    JTheta_2 = get_output_gradient(A1, Delta_3) + (lmbda * Theta_2)/m\n",
    "    Jb2 = get_output_bias_gradient(Delta_3)\n",
    "    \n",
    "    # Calculate Hidden Layer Gradients\n",
    "    JTheta_1 = get_hidden_gradient(X, Delta_2) + (lmbda * Theta_1)/m\n",
    "    \n",
    "    Jb1 = get_hidden_bias_gradient(Delta_2)\n",
    "\n",
    "    return [JTheta_1, Jb1, JTheta_2, Jb2]\n"
   ]
  },
  {
   "cell_type": "code",
   "execution_count": 34,
   "metadata": {},
   "outputs": [],
   "source": [
    "f_b1 = np.copy(o_b1)\n",
    "f_b2 = np.copy(o_b2)\n",
    "f_Theta_1 = np.copy(o_Theta_1)\n",
    "f_Theta_2 = np.copy(o_Theta_2)    \n",
    "\n",
    "training_loss = []\n",
    "validation_loss = []\n",
    "\n",
    "learning_rate = 0.01\n",
    "lmbda = 0.01\n",
    "    \n",
    "for i in range(0, MAX_EPOCHS):\n",
    "    \n",
    "    ## 1. Forward Pass\n",
    "    A1, A2 = forward_pass(X_train, f_Theta_1, f_b1, f_Theta_2, f_b2)\n",
    "    \n",
    "    ## 2. Training Loss\n",
    "    t_loss = cross_entropy_loss_with_regularization(lmbda, (f_Theta_1, f_Theta_2), A2, y_train_labels)\n",
    "    training_loss.append(t_loss)\n",
    "    \n",
    "    # 3. Calculate Gradient\n",
    "    params = (f_Theta_1, f_b1, f_Theta_2, f_b2)\n",
    "    Js = calculate_gradients_with_regularization(lmbda, X_train, y_train_labels, A1, A2, params)\n",
    "\n",
    "    ## 4. Evaluate on validation set    \n",
    "    v_loss = evaluate_validation_loss(X_test, y_test_labels, params)\n",
    "    validation_loss.append(v_loss)\n",
    "\n",
    "    ## 5. Update Weights\n",
    "    f_Theta_1, f_b1, f_Theta_2, f_b2 = get_new_parameters(Js, params, learning_rate)\n",
    "    "
   ]
  },
  {
   "cell_type": "markdown",
   "metadata": {},
   "source": [
    "### 3.2 Print Accuracy"
   ]
  },
  {
   "cell_type": "code",
   "execution_count": 35,
   "metadata": {},
   "outputs": [
    {
     "name": "stdout",
     "output_type": "stream",
     "text": [
      "Accuracy (train) 0.960\n",
      "Accuracy (test) 0.960\n"
     ]
    }
   ],
   "source": [
    "predicted_labels = predict_labels(X_train, params)\n",
    "print(f\"Accuracy (train) {accuracy(y_train_labels, predicted_labels):.3f}\")\n",
    "\n",
    "predicted_labels_t = predict_labels(X_test, params)\n",
    "print(f\"Accuracy (test) {accuracy(y_test_labels, predicted_labels_t):.3f}\")"
   ]
  },
  {
   "cell_type": "markdown",
   "metadata": {},
   "source": [
    "### 3.3 Plot loss"
   ]
  },
  {
   "cell_type": "code",
   "execution_count": 36,
   "metadata": {},
   "outputs": [
    {
     "data": {
      "image/png": "[encoded data removed]",
      "text/plain": [
       "<Figure size 432x288 with 1 Axes>"
      ]
     },
     "metadata": {
      "needs_background": "light"
     },
     "output_type": "display_data"
    }
   ],
   "source": [
    "plot_loss(training_loss, validation_loss, \"vanilla GD\")"
   ]
  },
  {
   "cell_type": "code",
   "execution_count": 76,
   "metadata": {},
   "outputs": [
    {
     "name": "stdout",
     "output_type": "stream",
     "text": [
      "Training set Accuracy Score: (sgd) 0.9333333333333333\n",
      "Validation set Accuracy Score: (sgd) 0.96\n"
     ]
    },
    {
     "name": "stderr",
     "output_type": "stream",
     "text": [
      "/Users/heather/anaconda3/lib/python3.7/site-packages/sklearn/neural_network/_multilayer_perceptron.py:571: ConvergenceWarning: Stochastic Optimizer: Maximum iterations (200) reached and the optimization hasn't converged yet.\n",
      "  % self.max_iter, ConvergenceWarning)\n"
     ]
    }
   ],
   "source": [
    "import warnings\n",
    "from sklearn.neural_network import MLPClassifier\n",
    "from sklearn.exceptions import ConvergenceWarning\n",
    "\n",
    "##\n",
    "## Note: This is squashing warnings about convergence. \n",
    "## This is because we're constraining the training to a max number of iterations of 50.\n",
    "## For development, you should remove this.\n",
    "##\n",
    "\n",
    "#warnings.filterwarnings(\"ignore\", category=ConvergenceWarning) \n",
    "    \n",
    "clf = MLPClassifier(solver = 'sgd', \n",
    "                    hidden_layer_sizes=(50, ),\n",
    "                    momentum=0, \n",
    "                    alpha=0.1,\n",
    "                    learning_rate = 'constant', \n",
    "                    random_state=1,\n",
    "                    learning_rate_init = 0.01).fit(X_train, y_train)\n",
    "\n",
    "print(\"Training set Accuracy Score: (sgd)\", clf.score(X_train, y_train))\n",
    "print(\"Validation set Accuracy Score: (sgd)\", clf.score(X_test, y_test))"
   ]
  },
  {
   "cell_type": "code",
   "execution_count": null,
   "metadata": {},
   "outputs": [],
   "source": []
  }
 ],
 "metadata": {
  "kernelspec": {
   "display_name": "Python 3",
   "language": "python",
   "name": "python3"
  },
  "language_info": {
   "codemirror_mode": {
    "name": "ipython",
    "version": 3
   },
   "file_extension": ".py",
   "mimetype": "text/x-python",
   "name": "python",
   "nbconvert_exporter": "python",
   "pygments_lexer": "ipython3",
   "version": "3.7.4"
  }
 },
 "nbformat": 4,
 "nbformat_minor": 2
}
