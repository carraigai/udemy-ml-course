{
 "cells": [
  {
   "cell_type": "markdown",
   "metadata": {},
   "source": [
    "# 6.11 - Back Propagation - with bias\n",
    "1. Initialise\n",
    "1. Forward Pass\n",
    "1. Calculate error\n",
    "1. Calculate Gradient\n",
    "1. Update weights using backprop\n",
    "1. Put a note in about mse and classification..."
   ]
  },
  {
   "cell_type": "markdown",
   "metadata": {},
   "source": [
    "## 1. Setup..."
   ]
  },
  {
   "cell_type": "markdown",
   "metadata": {},
   "source": [
    "### 1.1 Create Data"
   ]
  },
  {
   "cell_type": "code",
   "execution_count": 3,
   "metadata": {},
   "outputs": [],
   "source": [
    "import numpy as np\n",
    "import matplotlib.pyplot as plt\n",
    "from sklearn.datasets import make_classification\n",
    "from sklearn.model_selection import train_test_split\n",
    "\n",
    "X, y = make_classification(n_samples=100, \n",
    "                           n_clusters_per_class=1, \n",
    "                           n_classes=2,\n",
    "                           n_features=1,\n",
    "                           n_informative = 1, \n",
    "                           n_redundant = 0,\n",
    "                           random_state=4)\n",
    "\n",
    "X_train, X_test, y_train, y_test = train_test_split(X, y, stratify=y)"
   ]
  },
  {
   "cell_type": "code",
   "execution_count": 4,
   "metadata": {},
   "outputs": [],
   "source": [
    "labels = { 0: \"dogs\", 1: \"cats\"}\n",
    "\n",
    "idx_class_0 = y_train == 0 \n",
    "idx_class_1 = y_train == 1 "
   ]
  },
  {
   "cell_type": "code",
   "execution_count": 5,
   "metadata": {},
   "outputs": [
    {
     "data": {
      "text/plain": [
       "(100, 1)"
      ]
     },
     "execution_count": 5,
     "metadata": {},
     "output_type": "execute_result"
    }
   ],
   "source": [
    "X.shape"
   ]
  },
  {
   "cell_type": "markdown",
   "metadata": {},
   "source": [
    "### 1.2 Plot Data\n",
    "\n",
    "TODO: add jitter with seaborn?"
   ]
  },
  {
   "cell_type": "code",
   "execution_count": 6,
   "metadata": {},
   "outputs": [
    {
     "data": {
      "image/png": "[encoded data removed]",
      "text/plain": [
       "<Figure size 432x288 with 1 Axes>"
      ]
     },
     "metadata": {},
     "output_type": "display_data"
    }
   ],
   "source": [
    "plt.plot(X_train[idx_class_0, 0], np.zeros_like(X_train[idx_class_0, 0]), \n",
    "         'ro', label=labels[0])\n",
    "plt.plot(X_train[idx_class_1, 0], np.zeros_like(X_train[idx_class_1, 0]), \n",
    "         'g*', label=labels[1])\n",
    "plt.gca().axes.get_yaxis().set_visible(False)\n",
    "\n",
    "plt.title(\"Dogs vs Cats\")\n",
    "plt.xlabel(\"x1\")\n",
    "plt.ylabel(\"x2\")\n",
    "plt.xticks([])\n",
    "plt.yticks([])\n",
    "plt.legend()\n",
    "plt.show()"
   ]
  },
  {
   "cell_type": "markdown",
   "metadata": {},
   "source": [
    "## 2. Forward Pass"
   ]
  },
  {
   "cell_type": "markdown",
   "metadata": {},
   "source": [
    "TODO: image of network..."
   ]
  },
  {
   "cell_type": "code",
   "execution_count": 7,
   "metadata": {},
   "outputs": [],
   "source": [
    "def sigmoid(z):\n",
    "    return 1. / (1. + np.exp(-z))\n",
    "\n",
    "def hidden_layer_activation(x, w1, b0=0):\n",
    "    z1 = (x * w1) + b0\n",
    "    a1 = sigmoid(z1)\n",
    "    return z1, a1\n",
    "\n",
    "def output_layer_activation(a1, w2):\n",
    "    z2 = a1 * w2\n",
    "    a2 = sigmoid(z2)\n",
    "    return z2, a2\n",
    "\n",
    "def forward_pass(x, w1, w2, b0):\n",
    "    \n",
    "    z1, a1 = hidden_layer_activation(x, w1, b0)\n",
    "    z2, a2 = output_layer_activation(a1, w2)\n",
    "    return (z1, a1, z2, a2)\n"
   ]
  },
  {
   "cell_type": "code",
   "execution_count": 8,
   "metadata": {},
   "outputs": [],
   "source": [
    "b0 = 0\n",
    "w1 = 1.5\n",
    "w2 = 1.7\n",
    "(z1, a1, z2, a2) = forward_pass(X_train.reshape(-1), w1, w2, b0)"
   ]
  },
  {
   "cell_type": "code",
   "execution_count": 9,
   "metadata": {},
   "outputs": [
    {
     "data": {
      "text/plain": [
       "(75,)"
      ]
     },
     "execution_count": 9,
     "metadata": {},
     "output_type": "execute_result"
    }
   ],
   "source": [
    "a2.shape"
   ]
  },
  {
   "cell_type": "markdown",
   "metadata": {},
   "source": [
    "## 3. Calculate Loss"
   ]
  },
  {
   "cell_type": "code",
   "execution_count": 10,
   "metadata": {},
   "outputs": [
    {
     "data": {
      "text/plain": [
       "0.09665120606212119"
      ]
     },
     "execution_count": 10,
     "metadata": {},
     "output_type": "execute_result"
    }
   ],
   "source": [
    "def mse_loss(a2, y):\n",
    "    loss = 1/2 * np.mean((a2 - y)**2)\n",
    "    return loss\n",
    "\n",
    "mse_loss(a2, y_train)"
   ]
  },
  {
   "cell_type": "markdown",
   "metadata": {},
   "source": [
    "## 4. Calculate gradients using Backprop"
   ]
  },
  {
   "cell_type": "code",
   "execution_count": 11,
   "metadata": {},
   "outputs": [],
   "source": [
    "def backprop(x, y, w1, w2, z1, z2, a1, a2, b0):\n",
    "    \n",
    "    dL_a2 = a2 - y\n",
    "    da2_z2 = sigmoid(z2) * (1 - sigmoid(z2))\n",
    "    dz2_w2 = a1\n",
    "    dz2_a1 = w2\n",
    "    da1_z1 = sigmoid(z1) * (1 - sigmoid(z1))\n",
    "    dz1_w1 = x\n",
    "    dz1_b0 = 1\n",
    "\n",
    "    dL_w2 = np.mean(dL_a2 * da2_z2 * dz2_w2)\n",
    "    dL_w1 = np.mean(dL_a2 * da2_z2 * dz2_a1 * da1_z1 * dz1_w1)\n",
    "    dL_b0 = np.mean(dL_a2 * da2_z2 * dz2_a1 * da1_z1 * dz1_b0)\n",
    "    \n",
    "    return dL_w2, dL_w1, dL_b0"
   ]
  },
  {
   "cell_type": "code",
   "execution_count": 12,
   "metadata": {},
   "outputs": [
    {
     "name": "stdout",
     "output_type": "stream",
     "text": [
      "dL_w2: 0.0011501715449302185\n",
      "dL_w1: -0.01796487177201214\n",
      "dL_b0: 0.01307478054643515\n"
     ]
    }
   ],
   "source": [
    "dL_w2, dL_w1, dL_b0 = backprop(X_train.reshape(-1), y_train.reshape(-1), w1, w2, z1, z2, a1, a2, b0)\n",
    "print(\"dL_w2:\", dL_w2)\n",
    "print(\"dL_w1:\", dL_w1)\n",
    "print(\"dL_b0:\", dL_b0)"
   ]
  },
  {
   "cell_type": "markdown",
   "metadata": {},
   "source": [
    "## 5. Update network weights"
   ]
  },
  {
   "cell_type": "code",
   "execution_count": 13,
   "metadata": {},
   "outputs": [
    {
     "name": "stdout",
     "output_type": "stream",
     "text": [
      "(1.5053894615316037, 1.6996549485365209, -0.003922434163930545)\n"
     ]
    }
   ],
   "source": [
    "def get_new_weights(w1, w2, dL_w1, dL_w2, b0, dL_b0, learning_rate):\n",
    "    w1 = w1 - learning_rate * dL_w1\n",
    "    w2 = w2 - learning_rate * dL_w2\n",
    "    b0 = b0 - learning_rate * dL_b0\n",
    "    return w1, w2, b0\n",
    "   \n",
    "    \n",
    "learning_rate = 0.3    \n",
    "print(get_new_weights(w1, w2, dL_w1, dL_w2, b0, dL_b0, learning_rate))"
   ]
  },
  {
   "cell_type": "markdown",
   "metadata": {},
   "source": [
    "## 6. Repeats steps 2 to 5"
   ]
  },
  {
   "cell_type": "code",
   "execution_count": 63,
   "metadata": {},
   "outputs": [],
   "source": [
    "def evaluate_validation_loss(X_test, y_test, w1, w2, b0):\n",
    "    _, _, _, a2 = forward_pass(X_test.reshape(-1), w1, w2, b0)\n",
    "    loss = mse_loss(a2, y_test)\n",
    "    return loss\n",
    "    \n",
    "training_losses = np.array([])\n",
    "validation_losses = np.array([])    "
   ]
  },
  {
   "cell_type": "code",
   "execution_count": 73,
   "metadata": {},
   "outputs": [],
   "source": [
    "for i in range(1, 5000):\n",
    "    \n",
    "    ## 1. forward pass\n",
    "    (z1, a1, z2, a2) = forward_pass(X_train.reshape(-1), w1, w2, b0)\n",
    "\n",
    "    ## 2. Loss\n",
    "    loss = mse_loss(a2, y_train)\n",
    "\n",
    "    ## 3. Gradient Calculation with Backprop\n",
    "    dL_w2, dL_w1, dL_b0 = backprop(X_train.reshape(-1), y_train.reshape(-1), w1, w2, z1, z2, a1, a2, b0)\n",
    "\n",
    "    ## 4. Update Weights\n",
    "    w1, w2, b0 = get_new_weights(w1, w2, dL_w1, dL_w2, b0, dL_b0, learning_rate)\n",
    "    \n",
    "    ## 5. Evaluate on validation set\n",
    "    val_loss = evaluate_validation_loss(X_test, y_test, w1, w2, b0)\n",
    "    \n",
    "    ## 6. Save losses for review later.\n",
    "    training_losses = np.append(training_losses, loss)\n",
    "    validation_losses = np.append(validation_losses, val_loss)\n"
   ]
  },
  {
   "cell_type": "markdown",
   "metadata": {},
   "source": [
    "### Print training loss"
   ]
  },
  {
   "cell_type": "code",
   "execution_count": 74,
   "metadata": {},
   "outputs": [
    {
     "data": {
      "image/png": "[encoded data removed]",
      "text/plain": [
       "<Figure size 432x288 with 1 Axes>"
      ]
     },
     "metadata": {
      "needs_background": "light"
     },
     "output_type": "display_data"
    }
   ],
   "source": [
    "plt.plot(training_losses, label='training')\n",
    "plt.plot(validation_losses, label='validation')\n",
    "plt.title(\"Training Loss\")\n",
    "plt.xlabel(\"Training Set vs Validation Set Error\")\n",
    "plt.ylabel(\"Loss\")\n",
    "plt.legend()\n",
    "plt.show()"
   ]
  },
  {
   "cell_type": "code",
   "execution_count": 75,
   "metadata": {},
   "outputs": [],
   "source": [
    "z1, a1, z2, a2 = forward_pass(X_train.reshape(-1), w1, w2, b0)"
   ]
  },
  {
   "cell_type": "code",
   "execution_count": 76,
   "metadata": {},
   "outputs": [
    {
     "data": {
      "text/plain": [
       "array([0.59656565, 0.98405154, 0.50000584, 0.50223689, 0.50024795])"
      ]
     },
     "execution_count": 76,
     "metadata": {},
     "output_type": "execute_result"
    }
   ],
   "source": [
    "a2[0:5]"
   ]
  },
  {
   "cell_type": "code",
   "execution_count": 77,
   "metadata": {},
   "outputs": [
    {
     "data": {
      "text/plain": [
       "array([1, 1, 0, 0, 0])"
      ]
     },
     "execution_count": 77,
     "metadata": {},
     "output_type": "execute_result"
    }
   ],
   "source": [
    "y_train[0:5]"
   ]
  },
  {
   "cell_type": "code",
   "execution_count": 78,
   "metadata": {},
   "outputs": [
    {
     "data": {
      "text/plain": [
       "array([0.59656565, 0.98405154, 0.50000584, 0.50223689, 0.50024795])"
      ]
     },
     "execution_count": 78,
     "metadata": {},
     "output_type": "execute_result"
    }
   ],
   "source": [
    "a2[0:5]"
   ]
  },
  {
   "cell_type": "code",
   "execution_count": 79,
   "metadata": {},
   "outputs": [
    {
     "data": {
      "text/plain": [
       "(-0.0002502643320773926, -0.00045956738769697394, 0.00022428806810925354)"
      ]
     },
     "execution_count": 79,
     "metadata": {},
     "output_type": "execute_result"
    }
   ],
   "source": [
    "dL_w2, dL_w1, dL_b0"
   ]
  },
  {
   "cell_type": "code",
   "execution_count": 80,
   "metadata": {},
   "outputs": [
    {
     "data": {
      "text/plain": [
       "0.0703525196438862"
      ]
     },
     "execution_count": 80,
     "metadata": {},
     "output_type": "execute_result"
    }
   ],
   "source": [
    "loss"
   ]
  },
  {
   "cell_type": "code",
   "execution_count": 82,
   "metadata": {},
   "outputs": [
    {
     "data": {
      "text/plain": [
       "(4.122557432107965, 5.715647401301501, -2.7780816237502473)"
      ]
     },
     "execution_count": 82,
     "metadata": {},
     "output_type": "execute_result"
    }
   ],
   "source": [
    "w2, w1, b0"
   ]
  },
  {
   "cell_type": "code",
   "execution_count": null,
   "metadata": {},
   "outputs": [],
   "source": []
  }
 ],
 "metadata": {
  "kernelspec": {
   "display_name": "Python 3",
   "language": "python",
   "name": "python3"
  },
  "language_info": {
   "codemirror_mode": {
    "name": "ipython",
    "version": 3
   },
   "file_extension": ".py",
   "mimetype": "text/x-python",
   "name": "python",
   "nbconvert_exporter": "python",
   "pygments_lexer": "ipython3",
   "version": "3.7.4"
  }
 },
 "nbformat": 4,
 "nbformat_minor": 2
}
