{
 "cells": [
  {
   "cell_type": "markdown",
   "metadata": {},
   "source": [
    "1. Initialise\n",
    "1. Forward Pass\n",
    "1. Calculate error\n",
    "1. Calculate Gradient\n",
    "1. Update weights using backprop\n",
    "1. Put a note in about mse and classification..."
   ]
  },
  {
   "cell_type": "markdown",
   "metadata": {},
   "source": [
    "## 1. Setup..."
   ]
  },
  {
   "cell_type": "markdown",
   "metadata": {},
   "source": [
    "### 1.1 Create Data"
   ]
  },
  {
   "cell_type": "code",
   "execution_count": 308,
   "metadata": {},
   "outputs": [],
   "source": [
    "import numpy as np\n",
    "import matplotlib.pyplot as plt\n",
    "from sklearn.datasets import make_classification\n",
    "from sklearn.model_selection import train_test_split\n",
    "\n",
    "X, y = make_classification(n_samples=100, \n",
    "                           n_clusters_per_class=1, \n",
    "                           n_classes=2,\n",
    "                           n_features=1,\n",
    "                           n_informative = 1, \n",
    "                           n_redundant = 0,\n",
    "                           random_state=4)\n",
    "\n",
    "X_train, X_test, y_train, y_test = train_test_split(X, y, stratify=y)"
   ]
  },
  {
   "cell_type": "code",
   "execution_count": 309,
   "metadata": {},
   "outputs": [],
   "source": [
    "labels = { 0: \"dogs\", 1: \"cats\"}\n",
    "\n",
    "idx_class_0 = y_train == 0 \n",
    "idx_class_1 = y_train == 1 "
   ]
  },
  {
   "cell_type": "code",
   "execution_count": 310,
   "metadata": {},
   "outputs": [
    {
     "data": {
      "text/plain": [
       "(100, 1)"
      ]
     },
     "execution_count": 310,
     "metadata": {},
     "output_type": "execute_result"
    }
   ],
   "source": [
    "X.shape"
   ]
  },
  {
   "cell_type": "markdown",
   "metadata": {},
   "source": [
    "### 1.2 Plot Data"
   ]
  },
  {
   "cell_type": "code",
   "execution_count": 311,
   "metadata": {},
   "outputs": [
    {
     "data": {
      "image/png": "[encoded data removed]",
      "text/plain": [
       "<Figure size 432x288 with 1 Axes>"
      ]
     },
     "metadata": {},
     "output_type": "display_data"
    }
   ],
   "source": [
    "plt.plot(X_train[idx_class_0, 0], np.zeros_like(X_train[idx_class_0, 0]), \n",
    "         'ro', label=labels[0])\n",
    "plt.plot(X_train[idx_class_1, 0], np.zeros_like(X_train[idx_class_1, 0]), \n",
    "         'g*', label=labels[1])\n",
    "plt.gca().axes.get_yaxis().set_visible(False)\n",
    "\n",
    "plt.title(\"Dogs vs Cats\")\n",
    "plt.xlabel(\"x1\")\n",
    "plt.ylabel(\"x2\")\n",
    "plt.xticks([])\n",
    "plt.yticks([])\n",
    "plt.legend()\n",
    "plt.show()"
   ]
  },
  {
   "cell_type": "markdown",
   "metadata": {},
   "source": [
    "## 2. Forward Pass"
   ]
  },
  {
   "cell_type": "code",
   "execution_count": 312,
   "metadata": {},
   "outputs": [],
   "source": [
    "def sigmoid(z):\n",
    "    return 1. / (1. + np.exp(-z))\n",
    "\n",
    "def hidden_layer_activation(x, w1):\n",
    "    z1 = x * w1\n",
    "    a1 = sigmoid(z1)\n",
    "    return z1, a1\n",
    "\n",
    "def output_layer_activation(a1, w2):\n",
    "    z2 = a1 * w2\n",
    "    a2 = sigmoid(z2)\n",
    "    return z2, a2\n",
    "\n",
    "def forward_pass(x, w1, w2):\n",
    "    \n",
    "    z1, a1 = hidden_layer_activation(x, w1)\n",
    "    z2, a2 = output_layer_activation(a1, w2)\n",
    "    return (z1, a1, z2, a2)\n"
   ]
  },
  {
   "cell_type": "code",
   "execution_count": 313,
   "metadata": {},
   "outputs": [],
   "source": [
    "w1 = 1.5\n",
    "w2 = 1.7\n",
    "(z1, a1, z2, a2) = forward_pass(X_train.reshape(-1), w1, w2)"
   ]
  },
  {
   "cell_type": "markdown",
   "metadata": {},
   "source": [
    "## 3. Calculate Loss"
   ]
  },
  {
   "cell_type": "code",
   "execution_count": 314,
   "metadata": {},
   "outputs": [
    {
     "data": {
      "text/plain": [
       "0.09759503775882687"
      ]
     },
     "execution_count": 314,
     "metadata": {},
     "output_type": "execute_result"
    }
   ],
   "source": [
    "def mse_loss(a2, y):\n",
    "    loss = 1/2 * np.mean((a2 - y)**2)\n",
    "    return loss\n",
    "\n",
    "mse_loss(a2, y_train)"
   ]
  },
  {
   "cell_type": "markdown",
   "metadata": {},
   "source": [
    "## 4. Calculate gradients using Backprop"
   ]
  },
  {
   "cell_type": "code",
   "execution_count": 315,
   "metadata": {},
   "outputs": [],
   "source": [
    "def backprop(x, y, w1, w2, z1, z2, a1, a2):\n",
    "    \n",
    "    dL_a2 = a2 - y\n",
    "    da2_z2 = sigmoid(z2) * (1 - sigmoid(z2))\n",
    "    dz2_w2 = a1\n",
    "    dz2_a1 = w2\n",
    "    da1_z1 = sigmoid(z1) * (1 - sigmoid(z1))\n",
    "    dz1_w1 = x\n",
    "\n",
    "    dL_w2 = np.mean(dL_a2 * da2_z2 * dz2_w2)\n",
    "    dL_w1 = np.mean(dL_a2 * da2_z2 * dz2_a1 * da1_z1 * dz1_w1)\n",
    "    \n",
    "    return dL_w2, dL_w1"
   ]
  },
  {
   "cell_type": "code",
   "execution_count": 316,
   "metadata": {},
   "outputs": [
    {
     "name": "stdout",
     "output_type": "stream",
     "text": [
      "L_w2: 0.0018848541367436707\n",
      "L_w1: -0.017742618701503236\n"
     ]
    }
   ],
   "source": [
    "dL_w2, dL_w1 = backprop(X_train.reshape(-1), y_train.reshape(-1), w1, w2, z1, z2, a1, a2)\n",
    "print(\"L_w2:\", dL_w2)\n",
    "print(\"L_w1:\", dL_w1)"
   ]
  },
  {
   "cell_type": "markdown",
   "metadata": {},
   "source": [
    "## 5. Update network weights"
   ]
  },
  {
   "cell_type": "code",
   "execution_count": 317,
   "metadata": {},
   "outputs": [
    {
     "name": "stdout",
     "output_type": "stream",
     "text": [
      "(1.505322785610451, 1.6994345437589768)\n"
     ]
    }
   ],
   "source": [
    "def get_new_weights(w1, w2, dL_w1, dL_w2, learning_rate):\n",
    "    w1 = w1 - learning_rate * dL_w1\n",
    "    w2 = w2 - learning_rate * dL_w2\n",
    "    return w1, w2\n",
    "   \n",
    "    \n",
    "learning_rate = 0.3    \n",
    "print(get_new_weights(w1, w2, dL_w1, dL_w2, learning_rate))"
   ]
  },
  {
   "cell_type": "markdown",
   "metadata": {},
   "source": [
    "## 6. Repeats steps 2 to 5"
   ]
  },
  {
   "cell_type": "code",
   "execution_count": 318,
   "metadata": {},
   "outputs": [],
   "source": [
    "def evaluate_validation_loss(X_test, y_test, w1, w2):\n",
    "    _, _, _, a2 = forward_pass(X_test.reshape(-1), w1, w2)\n",
    "    loss = mse_loss(a2, y_test)\n",
    "    return loss\n",
    "    \n",
    "training_losses = np.array([])\n",
    "validation_losses = np.array([])    "
   ]
  },
  {
   "cell_type": "code",
   "execution_count": 319,
   "metadata": {},
   "outputs": [],
   "source": [
    "for i in range(1, 5000):\n",
    "    \n",
    "    ## 1. forward pass\n",
    "    (z1, a1, z2, a2) = forward_pass(X_train.reshape(-1), w1, w2)\n",
    "\n",
    "    ## 2. Loss\n",
    "    loss = mse_loss(a2, y_train)\n",
    "\n",
    "    ## 3. Gradiend Calculation with Backprop\n",
    "    dL_w2, dL_w1 = backprop(X_train.reshape(-1), y_train.reshape(-1), w1, w2, z1, z2, a1, a2)\n",
    "\n",
    "    ## 4. Update Weights\n",
    "    w1, w2 = get_new_weights(w1, w2, dL_w1, dL_w2, learning_rate)\n",
    "    \n",
    "    ## 5. Evaluate on validation set\n",
    "    val_loss = evaluate_validation_loss(X_test, y_test, w1, w2)\n",
    "    \n",
    "    ## 6. Save losses for review later.\n",
    "    training_losses = np.append(training_losses, loss)\n",
    "    validation_losses = np.append(validation_losses, val_loss)\n"
   ]
  },
  {
   "cell_type": "markdown",
   "metadata": {},
   "source": [
    "### Print training loss"
   ]
  },
  {
   "cell_type": "code",
   "execution_count": 320,
   "metadata": {},
   "outputs": [
    {
     "data": {
      "image/png": "[encoded data removed]",
      "text/plain": [
       "<Figure size 432x288 with 1 Axes>"
      ]
     },
     "metadata": {
      "needs_background": "light"
     },
     "output_type": "display_data"
    }
   ],
   "source": [
    "plt.plot(training_losses, label='training')\n",
    "plt.plot(validation_losses, label='validation')\n",
    "plt.title(\"Training Loss\")\n",
    "plt.xlabel(\"Training Set vs Validation Set Error\")\n",
    "plt.ylabel(\"Loss\")\n",
    "plt.legend()\n",
    "plt.show()"
   ]
  },
  {
   "cell_type": "code",
   "execution_count": 321,
   "metadata": {},
   "outputs": [],
   "source": [
    "z1, a1, z2, a2 = forward_pass(X_train.reshape(-1), w1, w2)"
   ]
  },
  {
   "cell_type": "code",
   "execution_count": 322,
   "metadata": {},
   "outputs": [
    {
     "data": {
      "text/plain": [
       "array([0.50772671, 0.92823512, 0.92815322, 0.5012704 , 0.52144757])"
      ]
     },
     "execution_count": 322,
     "metadata": {},
     "output_type": "execute_result"
    }
   ],
   "source": [
    "a2[0:5]"
   ]
  },
  {
   "cell_type": "code",
   "execution_count": 323,
   "metadata": {},
   "outputs": [
    {
     "data": {
      "text/plain": [
       "array([0, 1, 1, 0, 0])"
      ]
     },
     "execution_count": 323,
     "metadata": {},
     "output_type": "execute_result"
    }
   ],
   "source": [
    "y_train[0:5]"
   ]
  },
  {
   "cell_type": "code",
   "execution_count": 328,
   "metadata": {},
   "outputs": [
    {
     "data": {
      "text/plain": [
       "0.07222330606356075"
      ]
     },
     "execution_count": 328,
     "metadata": {},
     "output_type": "execute_result"
    }
   ],
   "source": [
    "mse_loss(a2, y_train)"
   ]
  },
  {
   "cell_type": "code",
   "execution_count": 329,
   "metadata": {},
   "outputs": [
    {
     "data": {
      "text/plain": [
       "0.012066553512824008"
      ]
     },
     "execution_count": 329,
     "metadata": {},
     "output_type": "execute_result"
    }
   ],
   "source": [
    "mse_loss(a1, y_train)"
   ]
  },
  {
   "cell_type": "code",
   "execution_count": 330,
   "metadata": {},
   "outputs": [
    {
     "data": {
      "text/plain": [
       "(-0.00011774563098024752, -0.0010425286482650836)"
      ]
     },
     "execution_count": 330,
     "metadata": {},
     "output_type": "execute_result"
    }
   ],
   "source": [
    "dL_w2, dL_w1"
   ]
  },
  {
   "cell_type": "code",
   "execution_count": 325,
   "metadata": {},
   "outputs": [
    {
     "data": {
      "text/plain": [
       "0.0722236362538359"
      ]
     },
     "execution_count": 325,
     "metadata": {},
     "output_type": "execute_result"
    }
   ],
   "source": [
    "loss"
   ]
  },
  {
   "cell_type": "code",
   "execution_count": 326,
   "metadata": {},
   "outputs": [
    {
     "data": {
      "text/plain": [
       "(2.562219844067639, 5.949305432119889)"
      ]
     },
     "execution_count": 326,
     "metadata": {},
     "output_type": "execute_result"
    }
   ],
   "source": [
    "w2, w1"
   ]
  },
  {
   "cell_type": "code",
   "execution_count": null,
   "metadata": {},
   "outputs": [],
   "source": []
  }
 ],
 "metadata": {
  "kernelspec": {
   "display_name": "Python 3",
   "language": "python",
   "name": "python3"
  },
  "language_info": {
   "codemirror_mode": {
    "name": "ipython",
    "version": 3
   },
   "file_extension": ".py",
   "mimetype": "text/x-python",
   "name": "python",
   "nbconvert_exporter": "python",
   "pygments_lexer": "ipython3",
   "version": "3.7.4"
  }
 },
 "nbformat": 4,
 "nbformat_minor": 2
}
