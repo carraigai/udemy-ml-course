{
 "cells": [
  {
   "cell_type": "code",
   "execution_count": 93,
   "metadata": {},
   "outputs": [],
   "source": [
    "import pandas as pd\n",
    "\n",
    "df = pd.read_csv(\"dinosaur/DatasaurusDozen-wide.tsv\", delimiter=\"\\t\")"
   ]
  },
  {
   "cell_type": "code",
   "execution_count": 94,
   "metadata": {},
   "outputs": [
    {
     "name": "stdout",
     "output_type": "stream",
     "text": [
      "<class 'pandas.core.frame.DataFrame'>\n",
      "RangeIndex: 143 entries, 0 to 142\n",
      "Data columns (total 26 columns):\n",
      "away            143 non-null object\n",
      "away.1          143 non-null object\n",
      "bullseye        143 non-null object\n",
      "bullseye.1      143 non-null object\n",
      "circle          143 non-null object\n",
      "circle.1        143 non-null object\n",
      "dino            143 non-null object\n",
      "dino.1          143 non-null object\n",
      "dots            143 non-null object\n",
      "dots.1          143 non-null object\n",
      "h_lines         143 non-null object\n",
      "h_lines.1       143 non-null object\n",
      "high_lines      143 non-null object\n",
      "high_lines.1    143 non-null object\n",
      "slant_down      143 non-null object\n",
      "slant_down.1    143 non-null object\n",
      "slant_up        143 non-null object\n",
      "slant_up.1      143 non-null object\n",
      "star            143 non-null object\n",
      "star.1          143 non-null object\n",
      "v_lines         143 non-null object\n",
      "v_lines.1       143 non-null object\n",
      "wide_lines      143 non-null object\n",
      "wide_lines.1    143 non-null object\n",
      "x_shape         143 non-null object\n",
      "x_shape.1       143 non-null object\n",
      "dtypes: object(26)\n",
      "memory usage: 29.2+ KB\n"
     ]
    }
   ],
   "source": [
    "df.info()"
   ]
  },
  {
   "cell_type": "code",
   "execution_count": 95,
   "metadata": {},
   "outputs": [
    {
     "data": {
      "text/html": [
       "<div>\n",
       "<style scoped>\n",
       "    .dataframe tbody tr th:only-of-type {\n",
       "        vertical-align: middle;\n",
       "    }\n",
       "\n",
       "    .dataframe tbody tr th {\n",
       "        vertical-align: top;\n",
       "    }\n",
       "\n",
       "    .dataframe thead th {\n",
       "        text-align: right;\n",
       "    }\n",
       "</style>\n",
       "<table border=\"1\" class=\"dataframe\">\n",
       "  <thead>\n",
       "    <tr style=\"text-align: right;\">\n",
       "      <th></th>\n",
       "      <th>away</th>\n",
       "      <th>away.1</th>\n",
       "      <th>bullseye</th>\n",
       "      <th>bullseye.1</th>\n",
       "      <th>circle</th>\n",
       "      <th>circle.1</th>\n",
       "      <th>dino</th>\n",
       "      <th>dino.1</th>\n",
       "      <th>dots</th>\n",
       "      <th>dots.1</th>\n",
       "      <th>...</th>\n",
       "      <th>slant_up</th>\n",
       "      <th>slant_up.1</th>\n",
       "      <th>star</th>\n",
       "      <th>star.1</th>\n",
       "      <th>v_lines</th>\n",
       "      <th>v_lines.1</th>\n",
       "      <th>wide_lines</th>\n",
       "      <th>wide_lines.1</th>\n",
       "      <th>x_shape</th>\n",
       "      <th>x_shape.1</th>\n",
       "    </tr>\n",
       "  </thead>\n",
       "  <tbody>\n",
       "    <tr>\n",
       "      <td>0</td>\n",
       "      <td>x</td>\n",
       "      <td>y</td>\n",
       "      <td>x</td>\n",
       "      <td>y</td>\n",
       "      <td>x</td>\n",
       "      <td>y</td>\n",
       "      <td>x</td>\n",
       "      <td>y</td>\n",
       "      <td>x</td>\n",
       "      <td>y</td>\n",
       "      <td>...</td>\n",
       "      <td>x</td>\n",
       "      <td>y</td>\n",
       "      <td>x</td>\n",
       "      <td>y</td>\n",
       "      <td>x</td>\n",
       "      <td>y</td>\n",
       "      <td>x</td>\n",
       "      <td>y</td>\n",
       "      <td>x</td>\n",
       "      <td>y</td>\n",
       "    </tr>\n",
       "    <tr>\n",
       "      <td>1</td>\n",
       "      <td>32.3311102266</td>\n",
       "      <td>61.411101248</td>\n",
       "      <td>51.2038911373</td>\n",
       "      <td>83.3397766053</td>\n",
       "      <td>55.9930301513</td>\n",
       "      <td>79.2772636977</td>\n",
       "      <td>55.3846</td>\n",
       "      <td>97.1795</td>\n",
       "      <td>51.1479167122</td>\n",
       "      <td>90.8674123313</td>\n",
       "      <td>...</td>\n",
       "      <td>47.6952008891</td>\n",
       "      <td>95.2411869282</td>\n",
       "      <td>58.2136082599</td>\n",
       "      <td>91.881891513</td>\n",
       "      <td>50.4815081703</td>\n",
       "      <td>93.2227013657</td>\n",
       "      <td>65.8155400946</td>\n",
       "      <td>95.5883740582</td>\n",
       "      <td>38.3377571839</td>\n",
       "      <td>92.472719051</td>\n",
       "    </tr>\n",
       "    <tr>\n",
       "      <td>2</td>\n",
       "      <td>53.4214628807</td>\n",
       "      <td>26.1868803879</td>\n",
       "      <td>58.9744699018</td>\n",
       "      <td>85.499817612</td>\n",
       "      <td>50.0322537946</td>\n",
       "      <td>79.013071199</td>\n",
       "      <td>51.5385</td>\n",
       "      <td>96.0256</td>\n",
       "      <td>50.5171258092</td>\n",
       "      <td>89.1023945866</td>\n",
       "      <td>...</td>\n",
       "      <td>44.6099759113</td>\n",
       "      <td>93.075835032</td>\n",
       "      <td>58.1960536923</td>\n",
       "      <td>92.2149886482</td>\n",
       "      <td>50.2824056687</td>\n",
       "      <td>97.6099835723</td>\n",
       "      <td>65.6722651618</td>\n",
       "      <td>91.9334018119</td>\n",
       "      <td>35.7518707905</td>\n",
       "      <td>94.1167680276</td>\n",
       "    </tr>\n",
       "    <tr>\n",
       "      <td>3</td>\n",
       "      <td>63.92020226</td>\n",
       "      <td>30.8321939163</td>\n",
       "      <td>51.8720726696</td>\n",
       "      <td>85.8297376348</td>\n",
       "      <td>51.2884586593</td>\n",
       "      <td>82.4359398425</td>\n",
       "      <td>46.1538</td>\n",
       "      <td>94.4872</td>\n",
       "      <td>50.2074801993</td>\n",
       "      <td>85.4600473951</td>\n",
       "      <td>...</td>\n",
       "      <td>43.8563814822</td>\n",
       "      <td>94.0858717713</td>\n",
       "      <td>58.7182307185</td>\n",
       "      <td>90.310532087</td>\n",
       "      <td>50.1867033389</td>\n",
       "      <td>99.6946801425</td>\n",
       "      <td>39.002716451</td>\n",
       "      <td>92.26183816</td>\n",
       "      <td>32.7672179591</td>\n",
       "      <td>88.5182945794</td>\n",
       "    </tr>\n",
       "    <tr>\n",
       "      <td>4</td>\n",
       "      <td>70.2895057187</td>\n",
       "      <td>82.5336485877</td>\n",
       "      <td>48.1799307865</td>\n",
       "      <td>85.0451167372</td>\n",
       "      <td>51.1705368873</td>\n",
       "      <td>79.1652941091</td>\n",
       "      <td>42.8205</td>\n",
       "      <td>91.4103</td>\n",
       "      <td>50.0694819181</td>\n",
       "      <td>83.0576695262</td>\n",
       "      <td>...</td>\n",
       "      <td>41.5789293984</td>\n",
       "      <td>90.3035665387</td>\n",
       "      <td>57.27837287</td>\n",
       "      <td>89.9076067166</td>\n",
       "      <td>50.3269108629</td>\n",
       "      <td>90.0220534916</td>\n",
       "      <td>37.7953028026</td>\n",
       "      <td>93.5324553607</td>\n",
       "      <td>33.7296067755</td>\n",
       "      <td>88.622265789</td>\n",
       "    </tr>\n",
       "  </tbody>\n",
       "</table>\n",
       "<p>5 rows × 26 columns</p>\n",
       "</div>"
      ],
      "text/plain": [
       "            away         away.1       bullseye     bullseye.1         circle  \\\n",
       "0              x              y              x              y              x   \n",
       "1  32.3311102266   61.411101248  51.2038911373  83.3397766053  55.9930301513   \n",
       "2  53.4214628807  26.1868803879  58.9744699018   85.499817612  50.0322537946   \n",
       "3    63.92020226  30.8321939163  51.8720726696  85.8297376348  51.2884586593   \n",
       "4  70.2895057187  82.5336485877  48.1799307865  85.0451167372  51.1705368873   \n",
       "\n",
       "        circle.1     dino   dino.1           dots         dots.1  ...  \\\n",
       "0              y        x        y              x              y  ...   \n",
       "1  79.2772636977  55.3846  97.1795  51.1479167122  90.8674123313  ...   \n",
       "2   79.013071199  51.5385  96.0256  50.5171258092  89.1023945866  ...   \n",
       "3  82.4359398425  46.1538  94.4872  50.2074801993  85.4600473951  ...   \n",
       "4  79.1652941091  42.8205  91.4103  50.0694819181  83.0576695262  ...   \n",
       "\n",
       "        slant_up     slant_up.1           star         star.1        v_lines  \\\n",
       "0              x              y              x              y              x   \n",
       "1  47.6952008891  95.2411869282  58.2136082599   91.881891513  50.4815081703   \n",
       "2  44.6099759113   93.075835032  58.1960536923  92.2149886482  50.2824056687   \n",
       "3  43.8563814822  94.0858717713  58.7182307185   90.310532087  50.1867033389   \n",
       "4  41.5789293984  90.3035665387    57.27837287  89.9076067166  50.3269108629   \n",
       "\n",
       "       v_lines.1     wide_lines   wide_lines.1        x_shape      x_shape.1  \n",
       "0              y              x              y              x              y  \n",
       "1  93.2227013657  65.8155400946  95.5883740582  38.3377571839   92.472719051  \n",
       "2  97.6099835723  65.6722651618  91.9334018119  35.7518707905  94.1167680276  \n",
       "3  99.6946801425   39.002716451    92.26183816  32.7672179591  88.5182945794  \n",
       "4  90.0220534916  37.7953028026  93.5324553607  33.7296067755   88.622265789  \n",
       "\n",
       "[5 rows x 26 columns]"
      ]
     },
     "execution_count": 95,
     "metadata": {},
     "output_type": "execute_result"
    }
   ],
   "source": [
    "df.head()"
   ]
  },
  {
   "cell_type": "code",
   "execution_count": 96,
   "metadata": {},
   "outputs": [],
   "source": [
    "df = df.tail(df.shape[0] - 1).copy()"
   ]
  },
  {
   "cell_type": "code",
   "execution_count": 97,
   "metadata": {},
   "outputs": [
    {
     "data": {
      "text/html": [
       "<div>\n",
       "<style scoped>\n",
       "    .dataframe tbody tr th:only-of-type {\n",
       "        vertical-align: middle;\n",
       "    }\n",
       "\n",
       "    .dataframe tbody tr th {\n",
       "        vertical-align: top;\n",
       "    }\n",
       "\n",
       "    .dataframe thead th {\n",
       "        text-align: right;\n",
       "    }\n",
       "</style>\n",
       "<table border=\"1\" class=\"dataframe\">\n",
       "  <thead>\n",
       "    <tr style=\"text-align: right;\">\n",
       "      <th></th>\n",
       "      <th>away</th>\n",
       "      <th>away.1</th>\n",
       "      <th>bullseye</th>\n",
       "      <th>bullseye.1</th>\n",
       "      <th>circle</th>\n",
       "      <th>circle.1</th>\n",
       "      <th>dino</th>\n",
       "      <th>dino.1</th>\n",
       "      <th>dots</th>\n",
       "      <th>dots.1</th>\n",
       "      <th>...</th>\n",
       "      <th>slant_up</th>\n",
       "      <th>slant_up.1</th>\n",
       "      <th>star</th>\n",
       "      <th>star.1</th>\n",
       "      <th>v_lines</th>\n",
       "      <th>v_lines.1</th>\n",
       "      <th>wide_lines</th>\n",
       "      <th>wide_lines.1</th>\n",
       "      <th>x_shape</th>\n",
       "      <th>x_shape.1</th>\n",
       "    </tr>\n",
       "  </thead>\n",
       "  <tbody>\n",
       "    <tr>\n",
       "      <td>1</td>\n",
       "      <td>32.3311102266</td>\n",
       "      <td>61.411101248</td>\n",
       "      <td>51.2038911373</td>\n",
       "      <td>83.3397766053</td>\n",
       "      <td>55.9930301513</td>\n",
       "      <td>79.2772636977</td>\n",
       "      <td>55.3846</td>\n",
       "      <td>97.1795</td>\n",
       "      <td>51.1479167122</td>\n",
       "      <td>90.8674123313</td>\n",
       "      <td>...</td>\n",
       "      <td>47.6952008891</td>\n",
       "      <td>95.2411869282</td>\n",
       "      <td>58.2136082599</td>\n",
       "      <td>91.881891513</td>\n",
       "      <td>50.4815081703</td>\n",
       "      <td>93.2227013657</td>\n",
       "      <td>65.8155400946</td>\n",
       "      <td>95.5883740582</td>\n",
       "      <td>38.3377571839</td>\n",
       "      <td>92.472719051</td>\n",
       "    </tr>\n",
       "    <tr>\n",
       "      <td>2</td>\n",
       "      <td>53.4214628807</td>\n",
       "      <td>26.1868803879</td>\n",
       "      <td>58.9744699018</td>\n",
       "      <td>85.499817612</td>\n",
       "      <td>50.0322537946</td>\n",
       "      <td>79.013071199</td>\n",
       "      <td>51.5385</td>\n",
       "      <td>96.0256</td>\n",
       "      <td>50.5171258092</td>\n",
       "      <td>89.1023945866</td>\n",
       "      <td>...</td>\n",
       "      <td>44.6099759113</td>\n",
       "      <td>93.075835032</td>\n",
       "      <td>58.1960536923</td>\n",
       "      <td>92.2149886482</td>\n",
       "      <td>50.2824056687</td>\n",
       "      <td>97.6099835723</td>\n",
       "      <td>65.6722651618</td>\n",
       "      <td>91.9334018119</td>\n",
       "      <td>35.7518707905</td>\n",
       "      <td>94.1167680276</td>\n",
       "    </tr>\n",
       "    <tr>\n",
       "      <td>3</td>\n",
       "      <td>63.92020226</td>\n",
       "      <td>30.8321939163</td>\n",
       "      <td>51.8720726696</td>\n",
       "      <td>85.8297376348</td>\n",
       "      <td>51.2884586593</td>\n",
       "      <td>82.4359398425</td>\n",
       "      <td>46.1538</td>\n",
       "      <td>94.4872</td>\n",
       "      <td>50.2074801993</td>\n",
       "      <td>85.4600473951</td>\n",
       "      <td>...</td>\n",
       "      <td>43.8563814822</td>\n",
       "      <td>94.0858717713</td>\n",
       "      <td>58.7182307185</td>\n",
       "      <td>90.310532087</td>\n",
       "      <td>50.1867033389</td>\n",
       "      <td>99.6946801425</td>\n",
       "      <td>39.002716451</td>\n",
       "      <td>92.26183816</td>\n",
       "      <td>32.7672179591</td>\n",
       "      <td>88.5182945794</td>\n",
       "    </tr>\n",
       "    <tr>\n",
       "      <td>4</td>\n",
       "      <td>70.2895057187</td>\n",
       "      <td>82.5336485877</td>\n",
       "      <td>48.1799307865</td>\n",
       "      <td>85.0451167372</td>\n",
       "      <td>51.1705368873</td>\n",
       "      <td>79.1652941091</td>\n",
       "      <td>42.8205</td>\n",
       "      <td>91.4103</td>\n",
       "      <td>50.0694819181</td>\n",
       "      <td>83.0576695262</td>\n",
       "      <td>...</td>\n",
       "      <td>41.5789293984</td>\n",
       "      <td>90.3035665387</td>\n",
       "      <td>57.27837287</td>\n",
       "      <td>89.9076067166</td>\n",
       "      <td>50.3269108629</td>\n",
       "      <td>90.0220534916</td>\n",
       "      <td>37.7953028026</td>\n",
       "      <td>93.5324553607</td>\n",
       "      <td>33.7296067755</td>\n",
       "      <td>88.622265789</td>\n",
       "    </tr>\n",
       "    <tr>\n",
       "      <td>5</td>\n",
       "      <td>34.1188302357</td>\n",
       "      <td>45.7345513203</td>\n",
       "      <td>41.6832004024</td>\n",
       "      <td>84.0179406019</td>\n",
       "      <td>44.3779145287</td>\n",
       "      <td>78.1646280036</td>\n",
       "      <td>40.7692</td>\n",
       "      <td>88.3333</td>\n",
       "      <td>50.5628463386</td>\n",
       "      <td>82.9378217764</td>\n",
       "      <td>...</td>\n",
       "      <td>49.1774185559</td>\n",
       "      <td>96.6105324538</td>\n",
       "      <td>58.082020494</td>\n",
       "      <td>92.0081450101</td>\n",
       "      <td>50.4562073315</td>\n",
       "      <td>89.9874101286</td>\n",
       "      <td>35.5139005857</td>\n",
       "      <td>89.5991901138</td>\n",
       "      <td>37.238249327</td>\n",
       "      <td>83.7249284144</td>\n",
       "    </tr>\n",
       "  </tbody>\n",
       "</table>\n",
       "<p>5 rows × 26 columns</p>\n",
       "</div>"
      ],
      "text/plain": [
       "            away         away.1       bullseye     bullseye.1         circle  \\\n",
       "1  32.3311102266   61.411101248  51.2038911373  83.3397766053  55.9930301513   \n",
       "2  53.4214628807  26.1868803879  58.9744699018   85.499817612  50.0322537946   \n",
       "3    63.92020226  30.8321939163  51.8720726696  85.8297376348  51.2884586593   \n",
       "4  70.2895057187  82.5336485877  48.1799307865  85.0451167372  51.1705368873   \n",
       "5  34.1188302357  45.7345513203  41.6832004024  84.0179406019  44.3779145287   \n",
       "\n",
       "        circle.1     dino   dino.1           dots         dots.1  ...  \\\n",
       "1  79.2772636977  55.3846  97.1795  51.1479167122  90.8674123313  ...   \n",
       "2   79.013071199  51.5385  96.0256  50.5171258092  89.1023945866  ...   \n",
       "3  82.4359398425  46.1538  94.4872  50.2074801993  85.4600473951  ...   \n",
       "4  79.1652941091  42.8205  91.4103  50.0694819181  83.0576695262  ...   \n",
       "5  78.1646280036  40.7692  88.3333  50.5628463386  82.9378217764  ...   \n",
       "\n",
       "        slant_up     slant_up.1           star         star.1        v_lines  \\\n",
       "1  47.6952008891  95.2411869282  58.2136082599   91.881891513  50.4815081703   \n",
       "2  44.6099759113   93.075835032  58.1960536923  92.2149886482  50.2824056687   \n",
       "3  43.8563814822  94.0858717713  58.7182307185   90.310532087  50.1867033389   \n",
       "4  41.5789293984  90.3035665387    57.27837287  89.9076067166  50.3269108629   \n",
       "5  49.1774185559  96.6105324538   58.082020494  92.0081450101  50.4562073315   \n",
       "\n",
       "       v_lines.1     wide_lines   wide_lines.1        x_shape      x_shape.1  \n",
       "1  93.2227013657  65.8155400946  95.5883740582  38.3377571839   92.472719051  \n",
       "2  97.6099835723  65.6722651618  91.9334018119  35.7518707905  94.1167680276  \n",
       "3  99.6946801425   39.002716451    92.26183816  32.7672179591  88.5182945794  \n",
       "4  90.0220534916  37.7953028026  93.5324553607  33.7296067755   88.622265789  \n",
       "5  89.9874101286  35.5139005857  89.5991901138   37.238249327  83.7249284144  \n",
       "\n",
       "[5 rows x 26 columns]"
      ]
     },
     "execution_count": 97,
     "metadata": {},
     "output_type": "execute_result"
    }
   ],
   "source": [
    "df.head()"
   ]
  },
  {
   "cell_type": "code",
   "execution_count": 98,
   "metadata": {},
   "outputs": [],
   "source": [
    "for col in df.columns:\n",
    "    df[col] = df[col].astype('float64')"
   ]
  },
  {
   "cell_type": "code",
   "execution_count": 99,
   "metadata": {},
   "outputs": [
    {
     "data": {
      "text/html": [
       "<div>\n",
       "<style scoped>\n",
       "    .dataframe tbody tr th:only-of-type {\n",
       "        vertical-align: middle;\n",
       "    }\n",
       "\n",
       "    .dataframe tbody tr th {\n",
       "        vertical-align: top;\n",
       "    }\n",
       "\n",
       "    .dataframe thead th {\n",
       "        text-align: right;\n",
       "    }\n",
       "</style>\n",
       "<table border=\"1\" class=\"dataframe\">\n",
       "  <thead>\n",
       "    <tr style=\"text-align: right;\">\n",
       "      <th></th>\n",
       "      <th>away</th>\n",
       "      <th>away.1</th>\n",
       "      <th>bullseye</th>\n",
       "      <th>bullseye.1</th>\n",
       "      <th>circle</th>\n",
       "      <th>circle.1</th>\n",
       "      <th>dino</th>\n",
       "      <th>dino.1</th>\n",
       "      <th>dots</th>\n",
       "      <th>dots.1</th>\n",
       "      <th>...</th>\n",
       "      <th>slant_up</th>\n",
       "      <th>slant_up.1</th>\n",
       "      <th>star</th>\n",
       "      <th>star.1</th>\n",
       "      <th>v_lines</th>\n",
       "      <th>v_lines.1</th>\n",
       "      <th>wide_lines</th>\n",
       "      <th>wide_lines.1</th>\n",
       "      <th>x_shape</th>\n",
       "      <th>x_shape.1</th>\n",
       "    </tr>\n",
       "  </thead>\n",
       "  <tbody>\n",
       "    <tr>\n",
       "      <td>count</td>\n",
       "      <td>142.000000</td>\n",
       "      <td>142.000000</td>\n",
       "      <td>142.000000</td>\n",
       "      <td>142.000000</td>\n",
       "      <td>142.000000</td>\n",
       "      <td>142.000000</td>\n",
       "      <td>142.000000</td>\n",
       "      <td>142.000000</td>\n",
       "      <td>142.000000</td>\n",
       "      <td>142.000000</td>\n",
       "      <td>...</td>\n",
       "      <td>142.000000</td>\n",
       "      <td>142.000000</td>\n",
       "      <td>142.000000</td>\n",
       "      <td>142.000000</td>\n",
       "      <td>142.000000</td>\n",
       "      <td>142.000000</td>\n",
       "      <td>142.000000</td>\n",
       "      <td>142.000000</td>\n",
       "      <td>142.000000</td>\n",
       "      <td>142.000000</td>\n",
       "    </tr>\n",
       "    <tr>\n",
       "      <td>mean</td>\n",
       "      <td>54.266100</td>\n",
       "      <td>47.834721</td>\n",
       "      <td>54.268730</td>\n",
       "      <td>47.830823</td>\n",
       "      <td>54.267320</td>\n",
       "      <td>47.837717</td>\n",
       "      <td>54.263273</td>\n",
       "      <td>47.832253</td>\n",
       "      <td>54.260303</td>\n",
       "      <td>47.839829</td>\n",
       "      <td>...</td>\n",
       "      <td>54.265882</td>\n",
       "      <td>47.831496</td>\n",
       "      <td>54.267341</td>\n",
       "      <td>47.839545</td>\n",
       "      <td>54.269927</td>\n",
       "      <td>47.836988</td>\n",
       "      <td>54.266916</td>\n",
       "      <td>47.831602</td>\n",
       "      <td>54.260150</td>\n",
       "      <td>47.839717</td>\n",
       "    </tr>\n",
       "    <tr>\n",
       "      <td>std</td>\n",
       "      <td>16.769825</td>\n",
       "      <td>26.939743</td>\n",
       "      <td>16.769239</td>\n",
       "      <td>26.935727</td>\n",
       "      <td>16.760013</td>\n",
       "      <td>26.930036</td>\n",
       "      <td>16.765142</td>\n",
       "      <td>26.935403</td>\n",
       "      <td>16.767735</td>\n",
       "      <td>26.930192</td>\n",
       "      <td>...</td>\n",
       "      <td>16.768853</td>\n",
       "      <td>26.938608</td>\n",
       "      <td>16.768959</td>\n",
       "      <td>26.930275</td>\n",
       "      <td>16.769959</td>\n",
       "      <td>26.937684</td>\n",
       "      <td>16.770000</td>\n",
       "      <td>26.937902</td>\n",
       "      <td>16.769958</td>\n",
       "      <td>26.930002</td>\n",
       "    </tr>\n",
       "    <tr>\n",
       "      <td>min</td>\n",
       "      <td>15.560750</td>\n",
       "      <td>0.015119</td>\n",
       "      <td>19.288205</td>\n",
       "      <td>9.691547</td>\n",
       "      <td>21.863581</td>\n",
       "      <td>16.326546</td>\n",
       "      <td>22.307700</td>\n",
       "      <td>2.948700</td>\n",
       "      <td>25.443526</td>\n",
       "      <td>15.771892</td>\n",
       "      <td>...</td>\n",
       "      <td>20.209778</td>\n",
       "      <td>5.645777</td>\n",
       "      <td>27.024603</td>\n",
       "      <td>14.365590</td>\n",
       "      <td>30.449654</td>\n",
       "      <td>2.734760</td>\n",
       "      <td>27.439632</td>\n",
       "      <td>0.217006</td>\n",
       "      <td>31.106867</td>\n",
       "      <td>4.577661</td>\n",
       "    </tr>\n",
       "    <tr>\n",
       "      <td>25%</td>\n",
       "      <td>39.724115</td>\n",
       "      <td>24.625892</td>\n",
       "      <td>41.627968</td>\n",
       "      <td>26.244735</td>\n",
       "      <td>43.379116</td>\n",
       "      <td>18.349610</td>\n",
       "      <td>44.102600</td>\n",
       "      <td>25.288450</td>\n",
       "      <td>50.359707</td>\n",
       "      <td>17.107141</td>\n",
       "      <td>...</td>\n",
       "      <td>42.810866</td>\n",
       "      <td>24.756248</td>\n",
       "      <td>41.034210</td>\n",
       "      <td>20.374135</td>\n",
       "      <td>49.964506</td>\n",
       "      <td>22.752884</td>\n",
       "      <td>35.522449</td>\n",
       "      <td>24.346941</td>\n",
       "      <td>40.091656</td>\n",
       "      <td>23.470809</td>\n",
       "    </tr>\n",
       "    <tr>\n",
       "      <td>50%</td>\n",
       "      <td>53.340296</td>\n",
       "      <td>47.535269</td>\n",
       "      <td>53.842088</td>\n",
       "      <td>47.382937</td>\n",
       "      <td>54.023213</td>\n",
       "      <td>51.025022</td>\n",
       "      <td>53.333300</td>\n",
       "      <td>46.025600</td>\n",
       "      <td>50.976768</td>\n",
       "      <td>51.299291</td>\n",
       "      <td>...</td>\n",
       "      <td>54.261345</td>\n",
       "      <td>45.292238</td>\n",
       "      <td>56.534732</td>\n",
       "      <td>50.110554</td>\n",
       "      <td>50.362890</td>\n",
       "      <td>47.113616</td>\n",
       "      <td>64.550226</td>\n",
       "      <td>46.279331</td>\n",
       "      <td>47.136458</td>\n",
       "      <td>39.876211</td>\n",
       "    </tr>\n",
       "    <tr>\n",
       "      <td>75%</td>\n",
       "      <td>69.146597</td>\n",
       "      <td>71.803148</td>\n",
       "      <td>64.798900</td>\n",
       "      <td>72.532852</td>\n",
       "      <td>64.972672</td>\n",
       "      <td>77.782382</td>\n",
       "      <td>64.743600</td>\n",
       "      <td>68.525675</td>\n",
       "      <td>75.197363</td>\n",
       "      <td>82.881589</td>\n",
       "      <td>...</td>\n",
       "      <td>64.488010</td>\n",
       "      <td>70.855844</td>\n",
       "      <td>68.711493</td>\n",
       "      <td>63.548584</td>\n",
       "      <td>69.504068</td>\n",
       "      <td>65.845391</td>\n",
       "      <td>67.453672</td>\n",
       "      <td>67.568127</td>\n",
       "      <td>71.856923</td>\n",
       "      <td>73.609634</td>\n",
       "    </tr>\n",
       "    <tr>\n",
       "      <td>max</td>\n",
       "      <td>91.639961</td>\n",
       "      <td>97.475771</td>\n",
       "      <td>91.735539</td>\n",
       "      <td>85.876229</td>\n",
       "      <td>85.664761</td>\n",
       "      <td>85.578134</td>\n",
       "      <td>98.205100</td>\n",
       "      <td>99.487200</td>\n",
       "      <td>77.954435</td>\n",
       "      <td>94.249328</td>\n",
       "      <td>...</td>\n",
       "      <td>95.260528</td>\n",
       "      <td>99.579591</td>\n",
       "      <td>86.435897</td>\n",
       "      <td>92.214989</td>\n",
       "      <td>89.504851</td>\n",
       "      <td>99.694680</td>\n",
       "      <td>77.915874</td>\n",
       "      <td>99.283764</td>\n",
       "      <td>85.446186</td>\n",
       "      <td>97.837615</td>\n",
       "    </tr>\n",
       "  </tbody>\n",
       "</table>\n",
       "<p>8 rows × 26 columns</p>\n",
       "</div>"
      ],
      "text/plain": [
       "             away      away.1    bullseye  bullseye.1      circle    circle.1  \\\n",
       "count  142.000000  142.000000  142.000000  142.000000  142.000000  142.000000   \n",
       "mean    54.266100   47.834721   54.268730   47.830823   54.267320   47.837717   \n",
       "std     16.769825   26.939743   16.769239   26.935727   16.760013   26.930036   \n",
       "min     15.560750    0.015119   19.288205    9.691547   21.863581   16.326546   \n",
       "25%     39.724115   24.625892   41.627968   26.244735   43.379116   18.349610   \n",
       "50%     53.340296   47.535269   53.842088   47.382937   54.023213   51.025022   \n",
       "75%     69.146597   71.803148   64.798900   72.532852   64.972672   77.782382   \n",
       "max     91.639961   97.475771   91.735539   85.876229   85.664761   85.578134   \n",
       "\n",
       "             dino      dino.1        dots      dots.1  ...    slant_up  \\\n",
       "count  142.000000  142.000000  142.000000  142.000000  ...  142.000000   \n",
       "mean    54.263273   47.832253   54.260303   47.839829  ...   54.265882   \n",
       "std     16.765142   26.935403   16.767735   26.930192  ...   16.768853   \n",
       "min     22.307700    2.948700   25.443526   15.771892  ...   20.209778   \n",
       "25%     44.102600   25.288450   50.359707   17.107141  ...   42.810866   \n",
       "50%     53.333300   46.025600   50.976768   51.299291  ...   54.261345   \n",
       "75%     64.743600   68.525675   75.197363   82.881589  ...   64.488010   \n",
       "max     98.205100   99.487200   77.954435   94.249328  ...   95.260528   \n",
       "\n",
       "       slant_up.1        star      star.1     v_lines   v_lines.1  wide_lines  \\\n",
       "count  142.000000  142.000000  142.000000  142.000000  142.000000  142.000000   \n",
       "mean    47.831496   54.267341   47.839545   54.269927   47.836988   54.266916   \n",
       "std     26.938608   16.768959   26.930275   16.769959   26.937684   16.770000   \n",
       "min      5.645777   27.024603   14.365590   30.449654    2.734760   27.439632   \n",
       "25%     24.756248   41.034210   20.374135   49.964506   22.752884   35.522449   \n",
       "50%     45.292238   56.534732   50.110554   50.362890   47.113616   64.550226   \n",
       "75%     70.855844   68.711493   63.548584   69.504068   65.845391   67.453672   \n",
       "max     99.579591   86.435897   92.214989   89.504851   99.694680   77.915874   \n",
       "\n",
       "       wide_lines.1     x_shape   x_shape.1  \n",
       "count    142.000000  142.000000  142.000000  \n",
       "mean      47.831602   54.260150   47.839717  \n",
       "std       26.937902   16.769958   26.930002  \n",
       "min        0.217006   31.106867    4.577661  \n",
       "25%       24.346941   40.091656   23.470809  \n",
       "50%       46.279331   47.136458   39.876211  \n",
       "75%       67.568127   71.856923   73.609634  \n",
       "max       99.283764   85.446186   97.837615  \n",
       "\n",
       "[8 rows x 26 columns]"
      ]
     },
     "execution_count": 99,
     "metadata": {},
     "output_type": "execute_result"
    }
   ],
   "source": [
    "df.describe()"
   ]
  },
  {
   "cell_type": "code",
   "execution_count": 100,
   "metadata": {},
   "outputs": [
    {
     "data": {
      "image/png": "[encoded data removed]",
      "text/plain": [
       "<Figure size 432x288 with 1 Axes>"
      ]
     },
     "metadata": {
      "needs_background": "light"
     },
     "output_type": "display_data"
    }
   ],
   "source": [
    "%matplotlib inline\n",
    "import seaborn as sns\n",
    "import matplotlib.pyplot as plt\n",
    "\n",
    "_ = sns.scatterplot(x='away', y='away.1', data=df).set_title(\"Away\")"
   ]
  },
  {
   "cell_type": "code",
   "execution_count": 101,
   "metadata": {},
   "outputs": [
    {
     "name": "stdout",
     "output_type": "stream",
     "text": [
      "mean: 54.27 std_dev: 16.71\n",
      "mean: 47.83 std_dev: 26.84\n"
     ]
    }
   ],
   "source": [
    "import numpy as np\n",
    "print(f'mean: {np.mean(df[\"bullseye\"]):.2f} std_dev: {np.std(df[\"bullseye\"]):.2f}')\n",
    "print(f'mean: {np.mean(df[\"bullseye.1\"]):.2f} std_dev: {np.std(df[\"bullseye.1\"]):.2f}')"
   ]
  },
  {
   "cell_type": "code",
   "execution_count": 102,
   "metadata": {},
   "outputs": [
    {
     "data": {
      "image/png": "[encoded data removed]",
      "text/plain": [
       "<Figure size 432x288 with 1 Axes>"
      ]
     },
     "metadata": {
      "needs_background": "light"
     },
     "output_type": "display_data"
    }
   ],
   "source": [
    "_ = sns.scatterplot(x='bullseye', y='bullseye.1', data=df).set_title(\"Bullseye\")"
   ]
  },
  {
   "cell_type": "code",
   "execution_count": 104,
   "metadata": {},
   "outputs": [
    {
     "data": {
      "image/png": "[encoded data removed]",
      "text/plain": [
       "<Figure size 432x288 with 1 Axes>"
      ]
     },
     "metadata": {
      "needs_background": "light"
     },
     "output_type": "display_data"
    }
   ],
   "source": [
    "_ = sns.scatterplot(x='wide_lines', y='wide_lines.1', data=df).set_title(\"Wide lines\")"
   ]
  },
  {
   "cell_type": "code",
   "execution_count": 105,
   "metadata": {},
   "outputs": [
    {
     "data": {
      "image/png": "[encoded data removed]",
      "text/plain": [
       "<Figure size 432x288 with 1 Axes>"
      ]
     },
     "metadata": {
      "needs_background": "light"
     },
     "output_type": "display_data"
    }
   ],
   "source": [
    "_ = sns.scatterplot(x='dots', y='dots.1', data=df).set_title(\"dots\")"
   ]
  },
  {
   "cell_type": "code",
   "execution_count": 106,
   "metadata": {},
   "outputs": [
    {
     "data": {
      "image/png": "[encoded data removed]",
      "text/plain": [
       "<Figure size 432x288 with 1 Axes>"
      ]
     },
     "metadata": {
      "needs_background": "light"
     },
     "output_type": "display_data"
    }
   ],
   "source": [
    "\n",
    "_ = sns.scatterplot(x='dino', y='dino.1', data=df).set_title(\"dino\")"
   ]
  },
  {
   "cell_type": "code",
   "execution_count": 107,
   "metadata": {},
   "outputs": [
    {
     "data": {
      "image/png": "[encoded data removed]",
      "text/plain": [
       "<Figure size 432x288 with 1 Axes>"
      ]
     },
     "metadata": {
      "needs_background": "light"
     },
     "output_type": "display_data"
    }
   ],
   "source": [
    "_ = sns.scatterplot(x='star', y='star.1', data=df).set_title(\"star\")"
   ]
  },
  {
   "cell_type": "code",
   "execution_count": 108,
   "metadata": {},
   "outputs": [
    {
     "data": {
      "text/plain": [
       "Text(0.5, 1.0, 'Hist Plot')"
      ]
     },
     "execution_count": 108,
     "metadata": {},
     "output_type": "execute_result"
    },
    {
     "data": {
      "image/png": "[encoded data removed]",
      "text/plain": [
       "<Figure size 432x288 with 1 Axes>"
      ]
     },
     "metadata": {
      "needs_background": "light"
     },
     "output_type": "display_data"
    }
   ],
   "source": [
    "sns.distplot(df['wide_lines']).set_title(\"Hist Plot\")"
   ]
  },
  {
   "cell_type": "code",
   "execution_count": 109,
   "metadata": {},
   "outputs": [
    {
     "data": {
      "text/plain": [
       "Text(0.5, 1.0, 'Wide Lines')"
      ]
     },
     "execution_count": 109,
     "metadata": {},
     "output_type": "execute_result"
    },
    {
     "data": {
      "image/png": "[encoded data removed]",
      "text/plain": [
       "<Figure size 432x288 with 1 Axes>"
      ]
     },
     "metadata": {
      "needs_background": "light"
     },
     "output_type": "display_data"
    }
   ],
   "source": [
    "sns.boxplot(df['wide_lines']).set_title(\"Wide Lines\")"
   ]
  },
  {
   "cell_type": "code",
   "execution_count": 110,
   "metadata": {},
   "outputs": [
    {
     "data": {
      "text/plain": [
       "Text(0.5, 1.0, 'Wide Lines')"
      ]
     },
     "execution_count": 110,
     "metadata": {},
     "output_type": "execute_result"
    },
    {
     "data": {
      "image/png": "[encoded data removed]",
      "text/plain": [
       "<Figure size 432x288 with 1 Axes>"
      ]
     },
     "metadata": {
      "needs_background": "light"
     },
     "output_type": "display_data"
    }
   ],
   "source": [
    "sns.violinplot(df['wide_lines']).set_title(\"Wide Lines\")"
   ]
  },
  {
   "cell_type": "code",
   "execution_count": 115,
   "metadata": {},
   "outputs": [
    {
     "data": {
      "text/html": [
       "<div>\n",
       "<style scoped>\n",
       "    .dataframe tbody tr th:only-of-type {\n",
       "        vertical-align: middle;\n",
       "    }\n",
       "\n",
       "    .dataframe tbody tr th {\n",
       "        vertical-align: top;\n",
       "    }\n",
       "\n",
       "    .dataframe thead th {\n",
       "        text-align: right;\n",
       "    }\n",
       "</style>\n",
       "<table border=\"1\" class=\"dataframe\">\n",
       "  <thead>\n",
       "    <tr style=\"text-align: right;\">\n",
       "      <th></th>\n",
       "      <th>away</th>\n",
       "      <th>away.1</th>\n",
       "    </tr>\n",
       "  </thead>\n",
       "  <tbody>\n",
       "    <tr>\n",
       "      <td>away</td>\n",
       "      <td>1.000000</td>\n",
       "      <td>-0.064128</td>\n",
       "    </tr>\n",
       "    <tr>\n",
       "      <td>away.1</td>\n",
       "      <td>-0.064128</td>\n",
       "      <td>1.000000</td>\n",
       "    </tr>\n",
       "  </tbody>\n",
       "</table>\n",
       "</div>"
      ],
      "text/plain": [
       "            away    away.1\n",
       "away    1.000000 -0.064128\n",
       "away.1 -0.064128  1.000000"
      ]
     },
     "execution_count": 115,
     "metadata": {},
     "output_type": "execute_result"
    }
   ],
   "source": [
    "df[['away', 'away.1']].corr()"
   ]
  },
  {
   "cell_type": "code",
   "execution_count": 117,
   "metadata": {},
   "outputs": [
    {
     "data": {
      "text/plain": [
       "(-0.0641283521547448, 0.44832881989437273)"
      ]
     },
     "execution_count": 117,
     "metadata": {},
     "output_type": "execute_result"
    }
   ],
   "source": [
    "import scipy.stats as stats\n",
    "stats.pearsonr(df['away'], df['away.1'])"
   ]
  },
  {
   "cell_type": "code",
   "execution_count": null,
   "metadata": {},
   "outputs": [],
   "source": []
  }
 ],
 "metadata": {
  "kernelspec": {
   "display_name": "Python 3",
   "language": "python",
   "name": "python3"
  },
  "language_info": {
   "codemirror_mode": {
    "name": "ipython",
    "version": 3
   },
   "file_extension": ".py",
   "mimetype": "text/x-python",
   "name": "python",
   "nbconvert_exporter": "python",
   "pygments_lexer": "ipython3",
   "version": "3.7.4"
  }
 },
 "nbformat": 4,
 "nbformat_minor": 2
}
