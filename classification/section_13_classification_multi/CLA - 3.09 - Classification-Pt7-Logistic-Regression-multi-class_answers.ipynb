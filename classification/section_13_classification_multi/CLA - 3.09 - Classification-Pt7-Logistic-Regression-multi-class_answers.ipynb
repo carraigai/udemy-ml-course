{
 "cells": [
  {
   "cell_type": "markdown",
   "metadata": {},
   "source": [
    "## Logistic Regression Multi-class\n",
    "\n",
    "In this notebook we're going to look at a simulated multi-class logistic regression problem. And we'll explore scoring a multiclass problem using AUC, Accuracy, f1_score"
   ]
  },
  {
   "cell_type": "code",
   "execution_count": 1,
   "metadata": {},
   "outputs": [],
   "source": [
    "import numpy as np\n",
    "import matplotlib.pyplot as plt\n",
    "from sklearn.datasets import make_classification\n",
    "from sklearn.model_selection import train_test_split\n",
    "\n",
    "X, y = make_classification(n_samples=900, \n",
    "                           n_redundant=1, \n",
    "                           n_clusters_per_class=1, \n",
    "                           n_features=3, \n",
    "                           n_classes=3, \n",
    "                           weights=[0.34, .33, 0.33],\n",
    "                           random_state=45)\n",
    "\n",
    "X_train, X_test, y_train, y_test = train_test_split(X, y, stratify=y)"
   ]
  },
  {
   "cell_type": "markdown",
   "metadata": {},
   "source": [
    "## check sizes of output..."
   ]
  },
  {
   "cell_type": "code",
   "execution_count": 2,
   "metadata": {},
   "outputs": [],
   "source": [
    "labels = { 0: \"dogs\", 1: \"cats\", 2: \"fish\" }\n",
    "\n",
    "idx_class_0 = y_train == 0 \n",
    "idx_class_1 = y_train == 1 \n",
    "idx_class_2 = y_train == 2"
   ]
  },
  {
   "cell_type": "code",
   "execution_count": 3,
   "metadata": {},
   "outputs": [
    {
     "name": "stdout",
     "output_type": "stream",
     "text": [
      "Percentage of dogs in train:0.34\n",
      "Percentage of cats in train:0.33\n",
      "Percentage of fish in train:0.33\n",
      "Percentage of dogs in test:0.34\n",
      "Percentage of cats in test:0.33\n",
      "Percentage of fish in test:0.32\n"
     ]
    }
   ],
   "source": [
    "y_train_n = y_train.shape[0]\n",
    "y_test_n = y_test.shape[0]\n",
    "print(f\"Percentage of dogs in train:{y_train[idx_class_0].shape[0] / y_train_n:.2f}\")\n",
    "print(f\"Percentage of cats in train:{y_train[idx_class_1].shape[0] / y_train_n:.2f}\")\n",
    "print(f\"Percentage of fish in train:{y_train[idx_class_2].shape[0] / y_train_n:.2f}\")\n",
    "\n",
    "print(f\"Percentage of dogs in test:{y_test[y_test == 0].shape[0] / y_test_n:.2f}\")\n",
    "print(f\"Percentage of cats in test:{y_test[y_test == 1].shape[0] / y_test_n:.2f}\")\n",
    "print(f\"Percentage of fish in test:{y_test[y_test == 2].shape[0] / y_test_n:.2f}\")"
   ]
  },
  {
   "cell_type": "markdown",
   "metadata": {},
   "source": [
    "### plot"
   ]
  },
  {
   "cell_type": "code",
   "execution_count": 4,
   "metadata": {},
   "outputs": [
    {
     "data": {
      "image/png": "[encoded data removed]",
      "text/plain": [
       "<Figure size 432x288 with 1 Axes>"
      ]
     },
     "metadata": {},
     "output_type": "display_data"
    }
   ],
   "source": [
    "plt.scatter(X_train[idx_class_0, 0], X_train[idx_class_0, 1], color='red', marker='s', label=labels[0])\n",
    "plt.scatter(X_train[idx_class_1, 0], X_train[idx_class_1, 1], color='green', marker='o', label=labels[1])\n",
    "plt.scatter(X_train[idx_class_2, 0], X_train[idx_class_2, 1], color='blue', marker='^', label=labels[2])\n",
    "\n",
    "plt.title(\"Dogs vs Cats vs Fish Classification\")\n",
    "plt.xlabel(\"x1\")\n",
    "plt.ylabel(\"x2\")\n",
    "plt.xticks([])\n",
    "plt.yticks([])\n",
    "plt.legend()\n",
    "plt.show()"
   ]
  },
  {
   "cell_type": "markdown",
   "metadata": {},
   "source": [
    "### logistic regression model"
   ]
  },
  {
   "cell_type": "code",
   "execution_count": 5,
   "metadata": {},
   "outputs": [],
   "source": [
    "from sklearn.linear_model import LogisticRegression\n",
    "model = LogisticRegression().fit(X_train, y_train)"
   ]
  },
  {
   "cell_type": "markdown",
   "metadata": {},
   "source": [
    "### Evaluate model - Classification Report"
   ]
  },
  {
   "cell_type": "code",
   "execution_count": 6,
   "metadata": {},
   "outputs": [
    {
     "data": {
      "text/plain": [
       "['dogs', 'cats', 'fish']"
      ]
     },
     "execution_count": 6,
     "metadata": {},
     "output_type": "execute_result"
    }
   ],
   "source": [
    "list(labels.values())"
   ]
  },
  {
   "cell_type": "code",
   "execution_count": 7,
   "metadata": {},
   "outputs": [
    {
     "data": {
      "text/plain": [
       "[0, 1, 2]"
      ]
     },
     "execution_count": 7,
     "metadata": {},
     "output_type": "execute_result"
    }
   ],
   "source": [
    "list(labels.keys())"
   ]
  },
  {
   "cell_type": "code",
   "execution_count": 8,
   "metadata": {},
   "outputs": [
    {
     "name": "stdout",
     "output_type": "stream",
     "text": [
      "              precision    recall  f1-score   support\n",
      "\n",
      "        dogs       0.90      0.86      0.88       230\n",
      "        cats       0.90      0.91      0.91       225\n",
      "        fish       0.82      0.85      0.83       220\n",
      "\n",
      "    accuracy                           0.87       675\n",
      "   macro avg       0.87      0.87      0.87       675\n",
      "weighted avg       0.87      0.87      0.87       675\n",
      "\n"
     ]
    }
   ],
   "source": [
    "from sklearn.metrics import classification_report\n",
    "report = classification_report(y_train, model.predict(X_train), \n",
    "                               labels=list(labels.keys()),    \n",
    "                               target_names=list(labels.values()))\n",
    "print(report)"
   ]
  },
  {
   "cell_type": "markdown",
   "metadata": {},
   "source": [
    "### Evaluate Model Confusion Matrix\n",
    "\n",
    "Matplotlib colormap reference:\n",
    "https://matplotlib.org/3.1.1/gallery/color/colormap_reference.html"
   ]
  },
  {
   "cell_type": "code",
   "execution_count": 9,
   "metadata": {},
   "outputs": [
    {
     "data": {
      "image/png": "[encoded data removed]",
      "text/plain": [
       "<Figure size 432x288 with 2 Axes>"
      ]
     },
     "metadata": {
      "needs_background": "light"
     },
     "output_type": "display_data"
    }
   ],
   "source": [
    "from sklearn.metrics import plot_confusion_matrix\n",
    "disp = plot_confusion_matrix(model, X_train, y_train, \n",
    "                             include_values=True, \n",
    "                             cmap=plt.cm.Blues,\n",
    "                             values_format='d',\n",
    "                             display_labels=labels.values())\n",
    "_ = disp.ax_.set_title(\"Confusion Matrix of Cats vs Dogs vs Fish\")"
   ]
  },
  {
   "cell_type": "code",
   "execution_count": 10,
   "metadata": {},
   "outputs": [
    {
     "data": {
      "image/png": "[encoded data removed]",
      "text/plain": [
       "<Figure size 432x288 with 2 Axes>"
      ]
     },
     "metadata": {
      "needs_background": "light"
     },
     "output_type": "display_data"
    }
   ],
   "source": [
    "disp = plot_confusion_matrix(model, X_test, y_test, \n",
    "                             include_values=True, \n",
    "                             cmap=plt.cm.Blues,\n",
    "                             display_labels=labels)\n",
    "_ = disp.ax_.set_title(\"Confusion Matrix of Cats vs Dogs vs Fish\")"
   ]
  },
  {
   "cell_type": "markdown",
   "metadata": {},
   "source": [
    "### ROC/AUC"
   ]
  },
  {
   "cell_type": "code",
   "execution_count": 11,
   "metadata": {},
   "outputs": [],
   "source": [
    "y_test_scores = model.predict_proba(X_test)"
   ]
  },
  {
   "cell_type": "code",
   "execution_count": 12,
   "metadata": {},
   "outputs": [
    {
     "data": {
      "text/plain": [
       "array([0.89065373, 0.03423109, 0.07511519])"
      ]
     },
     "execution_count": 12,
     "metadata": {},
     "output_type": "execute_result"
    }
   ],
   "source": [
    "y_test_scores[0]"
   ]
  },
  {
   "cell_type": "code",
   "execution_count": 13,
   "metadata": {},
   "outputs": [
    {
     "name": "stdout",
     "output_type": "stream",
     "text": [
      "Test AUC:0.92\n",
      "Train AUC:0.96\n"
     ]
    }
   ],
   "source": [
    "from sklearn.metrics import roc_auc_score\n",
    "\n",
    "y_test_scores = model.predict_proba(X_test)\n",
    "y_train_scores = model.predict_proba(X_train)\n",
    "test_auc = roc_auc_score(y_test, y_test_scores, multi_class='ovr')\n",
    "train_auc = roc_auc_score(y_train, y_train_scores, multi_class='ovr')\n",
    "\n",
    "print(f\"Test AUC:{test_auc:.2f}\")\n",
    "print(f\"Train AUC:{train_auc:.2f}\")"
   ]
  },
  {
   "cell_type": "markdown",
   "metadata": {},
   "source": [
    "## f1 score"
   ]
  },
  {
   "cell_type": "code",
   "execution_count": 14,
   "metadata": {},
   "outputs": [
    {
     "data": {
      "text/plain": [
       "0.8053006329113925"
      ]
     },
     "execution_count": 14,
     "metadata": {},
     "output_type": "execute_result"
    }
   ],
   "source": [
    "from sklearn.metrics import f1_score\n",
    "f1_score(y_test, model.predict(X_test), average='macro', labels=[0,2])"
   ]
  },
  {
   "cell_type": "markdown",
   "metadata": {},
   "source": [
    "## Accuracy"
   ]
  },
  {
   "cell_type": "code",
   "execution_count": 15,
   "metadata": {},
   "outputs": [
    {
     "data": {
      "text/plain": [
       "0.8044444444444444"
      ]
     },
     "execution_count": 15,
     "metadata": {},
     "output_type": "execute_result"
    }
   ],
   "source": [
    "from sklearn.metrics import accuracy_score\n",
    "accuracy_score(y_test, model.predict(X_test))"
   ]
  },
  {
   "cell_type": "code",
   "execution_count": null,
   "metadata": {},
   "outputs": [],
   "source": []
  }
 ],
 "metadata": {
  "kernelspec": {
   "display_name": "Python 3 (ipykernel)",
   "language": "python",
   "name": "python3"
  },
  "language_info": {
   "codemirror_mode": {
    "name": "ipython",
    "version": 3
   },
   "file_extension": ".py",
   "mimetype": "text/x-python",
   "name": "python",
   "nbconvert_exporter": "python",
   "pygments_lexer": "ipython3",
   "version": "3.8.10"
  }
 },
 "nbformat": 4,
 "nbformat_minor": 2
}
